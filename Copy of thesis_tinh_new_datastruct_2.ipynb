{
 "cells": [
  {
   "cell_type": "code",
   "execution_count": null,
   "metadata": {
    "colab_type": "text",
    "id": "ywsSpNOxNDUz"
   },
   "outputs": [],
   "source": [
    "# Setup Enviroment"
   ]
  },
  {
   "cell_type": "code",
   "execution_count": null,
   "metadata": {
    "colab": {
     "base_uri": "https://localhost:8080/",
     "height": 122
    },
    "colab_type": "code",
    "executionInfo": {
     "elapsed": 32183,
     "status": "ok",
     "timestamp": 1595473791006,
     "user": {
      "displayName": "TUẤN NGUYỄN",
      "photoUrl": "",
      "userId": "09951512662861922656"
     },
     "user_tz": -420
    },
    "id": "vO3IFLoLAqLl",
    "outputId": "bf940df4-ffce-4368-b1d9-ca92614afcb3"
   },
   "outputs": [],
   "source": [
    "# from google.colab import drive\n",
    "# drive.mount('/content/drive')"
   ]
  },
  {
   "cell_type": "code",
   "execution_count": null,
   "metadata": {
    "colab": {
     "base_uri": "https://localhost:8080/",
     "height": 34
    },
    "colab_type": "code",
    "executionInfo": {
     "elapsed": 32170,
     "status": "ok",
     "timestamp": 1595473791012,
     "user": {
      "displayName": "TUẤN NGUYỄN",
      "photoUrl": "",
      "userId": "09951512662861922656"
     },
     "user_tz": -420
    },
    "id": "9Sm1veihA0Al",
    "outputId": "4f69338f-406b-4ce3-bcbf-887edc522e61"
   },
   "outputs": [],
   "source": [
    "# cd drive/My Drive/Thesis/"
   ]
  },
  {
   "cell_type": "code",
   "execution_count": null,
   "metadata": {
    "colab": {},
    "colab_type": "code",
    "executionInfo": {
     "elapsed": 32157,
     "status": "ok",
     "timestamp": 1595473791013,
     "user": {
      "displayName": "TUẤN NGUYỄN",
      "photoUrl": "",
      "userId": "09951512662861922656"
     },
     "user_tz": -420
    },
    "id": "3FvgG55MA4v2"
   },
   "outputs": [],
   "source": [
    "#%run thesis_gpars.ipynb"
   ]
  },
  {
   "cell_type": "code",
   "execution_count": null,
   "metadata": {
    "colab": {},
    "colab_type": "code",
    "executionInfo": {
     "elapsed": 32145,
     "status": "ok",
     "timestamp": 1595473791015,
     "user": {
      "displayName": "TUẤN NGUYỄN",
      "photoUrl": "",
      "userId": "09951512662861922656"
     },
     "user_tz": -420
    },
    "id": "vQ1So8CH6WIt"
   },
   "outputs": [],
   "source": [
    "import time\n",
    "import re\n",
    "import math\n",
    "import queue\n",
    "import random\n",
    "import json\n",
    "import multiprocessing\n",
    "import os"
   ]
  },
  {
   "cell_type": "markdown",
   "metadata": {
    "colab_type": "text",
    "id": "NE4elMiBbwmH"
   },
   "source": [
    "# DATA STRUCTURE \n",
    "Resp thesis_gpars.ipynb\n"
   ]
  },
  {
   "cell_type": "code",
   "execution_count": null,
   "metadata": {
    "colab": {},
    "colab_type": "code",
    "executionInfo": {
     "elapsed": 32132,
     "status": "ok",
     "timestamp": 1595473791016,
     "user": {
      "displayName": "TUẤN NGUYỄN",
      "photoUrl": "",
      "userId": "09951512662861922656"
     },
     "user_tz": -420
    },
    "id": "nPJfPGJTbMb6"
   },
   "outputs": [],
   "source": [
    "MODIFY_INDEX = 0\n",
    "VACANT_INDEX = -1\n",
    "VACANT_LABEL = -1"
   ]
  },
  {
   "cell_type": "code",
   "execution_count": null,
   "metadata": {
    "colab": {},
    "colab_type": "code",
    "executionInfo": {
     "elapsed": 32118,
     "status": "ok",
     "timestamp": 1595473791017,
     "user": {
      "displayName": "TUẤN NGUYỄN",
      "photoUrl": "",
      "userId": "09951512662861922656"
     },
     "user_tz": -420
    },
    "id": "EeoTJe00bScY"
   },
   "outputs": [],
   "source": [
    "## Class Edge\n",
    "class MyEdge(tuple):\n",
    "  def __repr__(self):\n",
    "    return 'e {} {} {}'.format(self[0], self[1], self[2])"
   ]
  },
  {
   "cell_type": "code",
   "execution_count": null,
   "metadata": {
    "colab": {},
    "colab_type": "code",
    "executionInfo": {
     "elapsed": 32097,
     "status": "ok",
     "timestamp": 1595473791019,
     "user": {
      "displayName": "TUẤN NGUYỄN",
      "photoUrl": "",
      "userId": "09951512662861922656"
     },
     "user_tz": -420
    },
    "id": "YndBsx-XbVC8"
   },
   "outputs": [],
   "source": [
    "## Class MyNode\n",
    "\n",
    "class MyNode:\n",
    "  def __init__(self, id = VACANT_INDEX, label = VACANT_LABEL, to_nodes = [], from_nodes = []):\n",
    "    self.id = id\n",
    "    self.to_nodes = to_nodes.copy()   ## list id_nodes that from MyNode\n",
    "    self.from_nodes = from_nodes.copy() ## list id_nodes that to MyNode\n",
    "    self.label = label \n",
    "\n",
    "  def __repr__(self):\n",
    "    return 'v {} {}'.format(self.id, self.label)"
   ]
  },
  {
   "cell_type": "code",
   "execution_count": null,
   "metadata": {
    "colab": {},
    "colab_type": "code",
    "executionInfo": {
     "elapsed": 32630,
     "status": "ok",
     "timestamp": 1595473791567,
     "user": {
      "displayName": "TUẤN NGUYỄN",
      "photoUrl": "",
      "userId": "09951512662861922656"
     },
     "user_tz": -420
    },
    "id": "i5AJedUa4y_6"
   },
   "outputs": [],
   "source": [
    "## Class MyGraph\n",
    "\n",
    "class MyGraph:\n",
    "  def __init__(self, nodes=[], edges=set()):\n",
    "    self.nodes = nodes.copy()\n",
    "    self.edges = edges.copy()\n",
    "\n",
    "\n",
    "  def loadNode (self, filename):  \n",
    "    count = 0\n",
    "    with open(filename, 'r') as f:\n",
    "      for line in f.readlines():\n",
    "        count += 1\n",
    "    self.nodes = [None]*count     ## load node id resp index self.nodes \n",
    "    with open(filename, 'r') as f:\n",
    "      for line in f.readlines():\n",
    "        line = line.strip('\\n')\n",
    "        line = re.split(r'\\D+', line)\n",
    "        self.nodes[int(line[0])+MODIFY_INDEX] = MyNode(int(line[0])+MODIFY_INDEX, int(line[1]))\n",
    "\n",
    "    \n",
    "  def loadEdge (self, filename):\n",
    "    with open(filename, 'r') as f:\n",
    "      for line in f.readlines():\n",
    "        line = line.strip('\\n')\n",
    "        line = re.split(r'\\D+', line)\n",
    "        for i in range(0,2):\n",
    "          line[i] = int(line[i]) + MODIFY_INDEX\n",
    "        #if len(line) > 2:\n",
    "         # line[2] = int(line[2])\n",
    "          #self.edges.append(MyEdge(line[0], line[1], line[2]))\n",
    "        #else:\n",
    "        self.edges.add(MyEdge((line[0], line[1], VACANT_LABEL)))   #####\n",
    "        self.nodes[line[0]].to_nodes.append(line[1])\n",
    "        self.nodes[line[1]].from_nodes.append(line[0])\n",
    "  \n",
    "\n",
    "  def loadData(self, f1, f2):\n",
    "    self.loadNode(f1)\n",
    "    self.loadEdge(f2)\n",
    "\n",
    "  def addNode(self, node):\n",
    "    self.nodes.append(node)\n",
    "\n",
    "  def addEdge(self, edge):\n",
    "    self.edges.add(edge)\n",
    "    self.nodes[edge[0]].to_nodes.append(edge[1])\n",
    "    self.nodes[edge[1]].from_nodes.append(edge[0])\n",
    "  \n",
    "  def getNumEdges(self):\n",
    "    return len(self.edges)\n",
    "\n",
    "  def getDFSLabels(self):\n",
    "    res = set()\n",
    "    for e in self.edges:\n",
    "      vlb1 = self.nodes[e[0]].label\n",
    "      vlb2 = self.nodes[e[1]].label\n",
    "      if (vlb1, e[2], vlb2) not in res:\n",
    "        res.add((vlb1, e[2], vlb2))\n",
    "    return res\n",
    "\n",
    "  def getDFSEdge(self, e):\n",
    "    return MyDFSEdge((e[0], e[1], (self.nodes[e[0]].label, e[2], self.nodes[e[1]].label)))\n",
    "    \n",
    "  def getMatchingNodeDict(self, label):  \n",
    "    ''' func phi - return list of dictionary {0: node_index} they have same label'''\n",
    "    res = []\n",
    "    for i in range(len(self.nodes)):\n",
    "      if self.nodes[i].label == label:\n",
    "        temp = {0: i}\n",
    "        res.append(temp)\n",
    "    return res\n",
    "\n",
    "  def getMatchingNodeList(self, label):\n",
    "    res = []\n",
    "    for i in range(len(self.nodes)):\n",
    "      if self.nodes[i].label == label:\n",
    "        res.append([i])\n",
    "    return res\n",
    "  \n",
    "  def getLabelList(self):\n",
    "    res = []\n",
    "    for i in self.nodes:\n",
    "      if i.label not in res:\n",
    "        res.append(i.label)\n",
    "    return res\n",
    "\n",
    "  def getLabelNum(self):\n",
    "    ''' return dictionary {vlb: num of vlb} '''\n",
    "    res = dict.fromkeys(self.getLabelList(), 0)\n",
    "    for i in self.nodes:\n",
    "      res[i.label] += 1\n",
    "    return res\n",
    "\n",
    "  def getLabelDict(self):\n",
    "    res = dict.fromkeys(self.getLabelList(), None)\n",
    "    for i in res:\n",
    "      res[i] = []\n",
    "    for i in self.nodes:\n",
    "      res[i.label].append(i.id)\n",
    "    return res\n",
    "\n",
    "\n",
    "  def getLabelMatching(self):\n",
    "    ''' return dictionary {vlb: [vlb to_nodes]}'''\n",
    "    res = dict.fromkeys(self.getLabelList(), None)\n",
    "    for i in res:\n",
    "      res[i] = []\n",
    "    for i in self.nodes:\n",
    "      for j in i.to_nodes:\n",
    "        if self.nodes[j].label not in res[i.label]:\n",
    "          res[i.label].append(self.nodes[j].label)\n",
    "    return res\n",
    "\n",
    "\n",
    "  def getLabelMatchingFrom(self):\n",
    "    ''' return dictionary {vlb: [vlb from_nodes]}'''\n",
    "    res = dict.fromkeys(self.getLabelList(), None)\n",
    "    for i in res:\n",
    "      res[i] = []\n",
    "    for i in self.nodes:\n",
    "      for j in i.from_nodes:\n",
    "        if self.nodes[j].label not in res[i.label]:\n",
    "          res[i.label].append(self.nodes[j].label)\n",
    "    return res\n",
    "  \n",
    "  def display(self):\n",
    "    for n in self.nodes:\n",
    "      print (n)\n",
    "    for e in self.edges:\n",
    "      print (e)\n",
    "  \n",
    "  def plot(self):\n",
    "    try:\n",
    "      import networkx as nx\n",
    "      import matplotlib.pyplot as plt\n",
    "      import matplotlib.colors as mcolors\n",
    "    except Exception as e:\n",
    "      print('Can not plot graph: {}'.format(e))\n",
    "      return\n",
    "    #cycle = list(mcolors.CSS4_COLORS.keys())\n",
    "    cycle = plt.rcParams['axes.prop_cycle'].by_key()['color']\n",
    "    gnx = nx.DiGraph()\n",
    "    vlbs = {}\n",
    "    elbs = {}\n",
    "    for i in range(len(self.nodes)):\n",
    "      gnx.add_node(i, label= self.nodes[i].label)\n",
    "      vlbs[i] = self.nodes[i].label\n",
    "    for e in self.edges:\n",
    "      gnx.add_edge(e[0], e[1], label=e[2])\n",
    "      elbs[(e[0], e[1])] = e[2]\n",
    "    \n",
    "    vcolors = [cycle[i%len(cycle)] for i in vlbs.values()]\n",
    "    ecolors = 'black'\n",
    "    #ecolors = [cycle[len(cycle)%i] for i in elbs.values()]\n",
    "    fsize = (min(12, 1 * len(self.nodes)),\n",
    "              min(12, 1 * len(self.nodes)))\n",
    "    plt.figure(3, figsize=fsize)\n",
    "    # pos = nx.circular_layout(gnx)\n",
    "    pos = nx.spring_layout(gnx)\n",
    "    nx.draw_networkx(gnx, pos, node_size = 200, node_color = vcolors, edge_color = ecolors, labels = vlbs)\n",
    "    #nx.draw_networkx_edge_labels(gnx, pos, edge_labels= elbs)\n",
    "    plt.autoscale(enable = True)\n",
    "    plt.show()\n",
    "\n",
    "  def DFSUtil (self, v, visited, res):\n",
    "    visited[v] = True\n",
    "    for i in self.nodes[v].to_nodes:\n",
    "      if visited[i] == False:\n",
    "        res.append([v, i])\n",
    "        self.DFSUtil(i, visited, res)\n",
    "\n",
    "  def DFS (self, v):\n",
    "    res = []\n",
    "    visited = [False] * len (self.nodes)\n",
    "    self.DFSUtil(v, visited, res)\n",
    "    return res\n",
    "\n",
    "  def DFSUtil (self, s, visited, res):  \n",
    "    stack = []     \n",
    "    stack.append(s)  \n",
    "    while (len(stack) != 0): \n",
    "      s = stack.pop() \n",
    "      if (not visited[s]): \n",
    "        # print(s, end = \" \")  \n",
    "        visited[s] = True\n",
    "      i = 0\n",
    "      while i < len(self.nodes[s].to_nodes): \n",
    "        if (not visited[self.nodes[s].to_nodes[i]]):  \n",
    "          stack.append(self.nodes[s].to_nodes[i])\n",
    "          # res.append([s, stack[-1]]) \n",
    "          res.append(s) ##\n",
    "        i += 1\n",
    "\n",
    "  def DFS(self):\n",
    "    res = []\n",
    "    visited = [False] * len(self.nodes)\n",
    "    for i in range(len(self.nodes)): \n",
    "      if (not visited[i]): \n",
    "        self.DFSUtil(i, visited, res)\n",
    "    return res \n",
    "\n",
    "  def DFSUtil(self, v, visited, res): \n",
    "    visited[v]= True\n",
    "    res.append(v)\n",
    "    for i in self.nodes[v].to_nodes: \n",
    "        if visited[i] == False: \n",
    "            self.DFSUtil(i, visited, res) \n",
    "\n",
    "  def DFS(self): \n",
    "    res = []\n",
    "    V = len(self.nodes) \n",
    "    visited =[False]*(V) \n",
    "\n",
    "    for i in range(V): \n",
    "        if visited[i] == False: \n",
    "            self.DFSUtil(i, visited, res) \n",
    "    return res\n",
    "\n",
    "  def DFSUtilUndirected (self, v, visited, res):\n",
    "    visited[v] = True\n",
    "    neighbors = self.nodes[v].to_nodes + self.nodes[v].from_nodes\n",
    "    for i in neighbors:\n",
    "      if visited[i] == False:\n",
    "        res.append(v)\n",
    "        self.DFSUtil(i, visited, res)\n",
    "\n",
    "  def DFSUndirected (self, v):\n",
    "    res = []\n",
    "    visited = [False] * len (self.nodes)\n",
    "    self.DFSUtilUndirected(v, visited, res)\n",
    "    return res\n",
    "\n",
    "  def DFSUtilvCode (self, v, visited, res):\n",
    "    visited[v] = True\n",
    "    for i in self.nodes[v].to_nodes:\n",
    "      if visited[i] == False:\n",
    "        res.append((v, i, VACANT_LABEL))\n",
    "        self.DFSUtilvCode(i, visited, res)\n",
    "    for i in self.nodes[v].from_nodes:\n",
    "      if visited[i] == False:\n",
    "        res.append((i, v, VACANT_LABEL))\n",
    "        self.DFSUtilvCode(i, visited, res)\n",
    "\n",
    "  def DFSvCode(self, v):\n",
    "    res = []\n",
    "    visited = [False] * len (self.nodes)\n",
    "    self.DFSUtilvCode(v, visited, res)\n",
    "    return res\n",
    "\n",
    "\n",
    "  def toDFSMin(self):\n",
    "    dfsMin = MyDFSCode()\n",
    "    for i in range(self.getNumEdges()):\n",
    "      temp, s = rightMostPatExt(dfsMin, self)\n",
    "      if len(temp) == 0:\n",
    "        print (dfsMin)\n",
    "        break\n",
    "      dfsMin.append(s)\n",
    "    return dfsMin"
   ]
  },
  {
   "cell_type": "code",
   "execution_count": null,
   "metadata": {
    "colab": {},
    "colab_type": "code",
    "executionInfo": {
     "elapsed": 32617,
     "status": "ok",
     "timestamp": 1595473791568,
     "user": {
      "displayName": "TUẤN NGUYỄN",
      "photoUrl": "",
      "userId": "09951512662861922656"
     },
     "user_tz": -420
    },
    "id": "ObQLEBHibbOA"
   },
   "outputs": [],
   "source": [
    "class MyCodeGraph():\n",
    "  def __init__(self, data = None, supp = 0, children = None):\n",
    "    if data is not None:\n",
    "      assert isinstance(data, MyDFSCode)\n",
    "      self.data = data.mcopy()\n",
    "    else:\n",
    "      self.data = data\n",
    "    self.support = supp\n",
    "    self.children = []\n",
    "    if children is not None:\n",
    "      for child in children:\n",
    "        self.addChild(child)\n",
    "  \n",
    "  def addChild(self, child):\n",
    "    assert isinstance(child, MyCodeGraph)\n",
    "    self.children.append(child)\n",
    "  \n",
    "  def updateSupport(self, supp):\n",
    "    self.support = supp\n",
    "\n",
    "  def getLeafCodes(self):\n",
    "    res = []\n",
    "    def _get_leaf_nodes(node):\n",
    "        if node is not None:\n",
    "            if len(node.children) == 0:\n",
    "                res.append((node.data.mcopy(), node.support))\n",
    "            for n in node.children:\n",
    "                _get_leaf_nodes(n)\n",
    "    _get_leaf_nodes(self)\n",
    "    return res\n",
    "  \n",
    "  def getAllCodes(self):\n",
    "    res = []\n",
    "    def _get_all_nodes(node):\n",
    "        if node is not None:\n",
    "          if node.data is not None:\n",
    "            res.append(node)\n",
    "          for n in node.children:\n",
    "            _get_all_nodes(n)\n",
    "    _get_all_nodes(self)\n",
    "    return res\n",
    "\n",
    "  def getAllData(self):\n",
    "    res = []\n",
    "    def _get_all_nodes(node):\n",
    "        if node is not None:\n",
    "          if node.data is not None:\n",
    "            res.append((node.data.mcopy(), node.support))\n",
    "          for n in node.children:\n",
    "            _get_all_nodes(n)\n",
    "    _get_all_nodes(self)\n",
    "    return res\n",
    "\n",
    "  def getAllDFSCode(self):\n",
    "    res = []\n",
    "    def _get_all_dfs(node):\n",
    "        if node is not None:\n",
    "          if node.data is not None:\n",
    "            res.append(node.data.mcopy())\n",
    "          for n in node.children:\n",
    "            _get_all_dfs(n)\n",
    "    _get_all_dfs(self)\n",
    "    return res\n",
    "\n",
    "  def getBFSearch(self):\n",
    "    nodes = []\n",
    "    queue = [self]\n",
    "    while queue:\n",
    "        cur_node = queue[0]\n",
    "        queue = queue[1:]\n",
    "        if cur_node.data is not None:\n",
    "          nodes.append((cur_node.data.mcopy(), cur_node.support))\n",
    "        for child in cur_node.children:\n",
    "            queue.append(child)\n",
    "    return nodes\n",
    "\n",
    "  def getTrueLeaf(self):\n",
    "    res = []\n",
    "    leafs = self.getLeafCodes()\n",
    "    for i in range(len(leafs)):\n",
    "      flag = True\n",
    "      for j in range(len(leafs)):\n",
    "        if len(leafs[i][0]) < len(leafs[j][0]):\n",
    "          iso = subgraphIsomorphisms3(leafs[i][0], leafs[j][0].toGraph())\n",
    "          if len(iso) != 0:\n",
    "            flag = False\n",
    "            break\n",
    "      if flag:\n",
    "        res.append(leafs[i])\n",
    "    return res\n",
    "    \n",
    "  def getNum(self):\n",
    "    if not isinstance(self, MyCodeGraph):\n",
    "      return 0\n",
    "    count = 1\n",
    "    for i in self.children:\n",
    "      count+= i.getNum()\n",
    "    return count\n",
    "\n",
    "  def __eq__(self, other):\n",
    "    return (self.data == other.data and self.support == other.support and self.children == other.children)\n",
    "\n",
    "  def __ne__(self, other):\n",
    "    return not self.__eq__(other)\n",
    "\n",
    "  def __repr__(self):\n",
    "    return '{} : {}'.format(self.data, self.support)\n",
    "    \n",
    "  def display (self):\n",
    "    print (self)\n",
    "    for i in self.children:\n",
    "      i.display()"
   ]
  },
  {
   "cell_type": "code",
   "execution_count": null,
   "metadata": {
    "colab": {},
    "colab_type": "code",
    "executionInfo": {
     "elapsed": 32971,
     "status": "ok",
     "timestamp": 1595473791937,
     "user": {
      "displayName": "TUẤN NGUYỄN",
      "photoUrl": "",
      "userId": "09951512662861922656"
     },
     "user_tz": -420
    },
    "id": "BsKOmEV1bdbJ"
   },
   "outputs": [],
   "source": [
    "class MyDFSEdge(tuple):\n",
    "  def isForward(self):\n",
    "    return self[0] < self[1]\n",
    "  \n",
    "  def isBackward(self):\n",
    "    return self[0] > self[1]\n",
    "  \n",
    "  def eqOrder(self, other):\n",
    "    return (self[0] == other[0] and self[1] == other[1])\n",
    "\n",
    "\n",
    "  def ltOrder(self, other):\n",
    "    if self[0] < self[1]:\n",
    "      if other[0] < other[1]:\n",
    "        return (other[0] <= self[1] and other[1] == self[1] + 1)\n",
    "      else:\n",
    "        return (other[0] == self[1] and other[1] < self[0])\n",
    "    else:\n",
    "      if other[0] < other[1]:\n",
    "        return (other[0] <= self[0] and other[1] == self[0] + 1)\n",
    "      else:\n",
    "        return (other[0] == self[0] and other[1] < self[1])\n",
    "\n",
    "\n",
    "  # def ltOrder(self, other):\n",
    "  #   if self[0] < self[1]:\n",
    "  #     if other[0] < other[1]:\n",
    "  #       return (self[1] < other[1] or (self[1] == other[1] and self[0] > other[0]))\n",
    "  #     else:\n",
    "  #       return (other[0] >= self[1])\n",
    "  #   else:\n",
    "  #     if other[0] < other[1]:\n",
    "  #       return True\n",
    "  #     else:\n",
    "  #       return (self[0] < other[0] or (self[0] == other[0] and self[1] < other[1]))\n",
    "  \n",
    "\n",
    "  def __lt__(self, other):\n",
    "     return (self.ltOrder(other) or (self[2] < other[2] and self.eqOrder(other)))\n",
    "\n",
    "  def __gt__(self, other):\n",
    "    return not (self.__lt__(other) or self.__eq__(other))\n",
    "\n",
    "  def __repr__(self):\n",
    "    return '{} {} {}'.format(self[0], self[1], self[2])"
   ]
  },
  {
   "cell_type": "code",
   "execution_count": null,
   "metadata": {
    "colab": {},
    "colab_type": "code",
    "executionInfo": {
     "elapsed": 32958,
     "status": "ok",
     "timestamp": 1595473791938,
     "user": {
      "displayName": "TUẤN NGUYỄN",
      "photoUrl": "",
      "userId": "09951512662861922656"
     },
     "user_tz": -420
    },
    "id": "BxIRrRZ9fLKX"
   },
   "outputs": [],
   "source": [
    "## Version: resp version 3 - Using LIST for MF\n",
    "## return list of list ordered node_index resp nodes in c - 2D\n",
    "\n",
    "def subgraphIsomorphisms(c, g):   ## c: dfscode, g: graph\n",
    "  res = []\n",
    "  for i in range(len(g.nodes)):\n",
    "    if g.nodes[i].label == c[0][2][0]:\n",
    "      res.append([i])\n",
    "\n",
    "  for i in c:         ## O(|c|)\n",
    "    i1, i2, (vlb1, elb, vlb2) = i[0], i[1], i[2] \n",
    "    temp = []\n",
    "    for j in res:     ## O(|V(g)|) \n",
    "      if i2 >= len(j):\n",
    "        for xx in g.nodes[j[i1]].to_nodes:   ## O(|V(g|)\n",
    "          if g.nodes[xx].label == vlb2 and xx not in j:\n",
    "            j1 = j.copy()\n",
    "            j1.append(xx)\n",
    "            temp.append(j1.copy())\n",
    "      elif i1 >= len(j):\n",
    "        for xx in g.nodes[j[i2]].from_nodes:\n",
    "          if g.nodes[xx].label == vlb1 and xx not in j:\n",
    "            j1 = j.copy()\n",
    "            j1.append(xx)\n",
    "            temp.append(j1.copy())\n",
    "      else:\n",
    "        if MyEdge((j[i1], j[i2], elb)) in g.edges:\n",
    "            temp.append(j.copy())\n",
    "    res = temp.copy()\n",
    "  return res"
   ]
  },
  {
   "cell_type": "code",
   "execution_count": null,
   "metadata": {
    "colab": {},
    "colab_type": "code",
    "executionInfo": {
     "elapsed": 32946,
     "status": "ok",
     "timestamp": 1595473791939,
     "user": {
      "displayName": "TUẤN NGUYỄN",
      "photoUrl": "",
      "userId": "09951512662861922656"
     },
     "user_tz": -420
    },
    "id": "k0ht-z-sDgj9"
   },
   "outputs": [],
   "source": [
    "## Version 3\n",
    "## O(|E(g)|.|V(g)|.|V(c)|.|c|) ~ O(|E(g)|.|V(g)|.|c|^2)\n",
    "def rightMostPatExt(dfscode, g):   \n",
    "  rmNode = dfscode.getRMNode()  ## rightMost vertex of dfscode    ## O(|c|)\n",
    "  res = set()   ## set of dfsEdges\n",
    "  \n",
    "  if rmNode < 0:   ## dfs is None\n",
    "    for i in g.edges:    ## O(|E(g)|)\n",
    "      res.add(MyDFSEdge((0, 1, (g.nodes[i[0]].label, i[2], g.nodes[i[1]].label))))\n",
    "    temp = min(res)\n",
    "    return res, temp\n",
    "  else:\n",
    "    minExt = [rmNode, rmNode, -1, -1]\n",
    "    gc = dfscode.toGraph()    ## O(|c|^2)\n",
    "    R = dfscode.getRMPathNodes() ## list of nodes in rightMostPath of dfscode  ## O(|c|^2)\n",
    "    iso = subgraphIsomorphisms(dfscode, g)    ## O(|c|.|V(g)|^2)\n",
    "    for i in iso:   ## i: dict          ## O(|E(g)|)\n",
    "      ## backward ext\n",
    "      ## backward edge\n",
    "      for x in g.nodes[i[rmNode]].to_nodes:  ## x: node_index  ## O(|V(g)|)\n",
    "        if x in i:             ## O(|V(c)|)\n",
    "          v = i.index(x)\n",
    "          if MyEdge((rmNode, v, VACANT_LABEL)) not in gc.edges and v in R:   ## O(|c|)\n",
    "            b = MyDFSEdge((rmNode, v, (gc.nodes[rmNode].label, VACANT_LABEL, gc.nodes[v].label)))\n",
    "            res.add(b)\n",
    "            if minExt[0] > v:  #find min\n",
    "              minExt[0] = v\n",
    "      ## forward edge\n",
    "      for x in g.nodes[i[rmNode]].from_nodes:\n",
    "        if x in i:\n",
    "          v = i.index(x)\n",
    "          if MyEdge((v, rmNode, VACANT_LABEL)) not in gc.edges and v in R:   ## O(|c|)\n",
    "            b = MyDFSEdge((v, rmNode, (gc.nodes[v].label, VACANT_LABEL, gc.nodes[rmNode].label)))\n",
    "            res.add(b)\n",
    "            if minExt[1] > v:\n",
    "              minExt[1] = v\n",
    "      ## forward ext\n",
    "      for u in R:      ## O(|R|) ~ O(|V(c)|)\n",
    "        ## forward edge\n",
    "        for x in g.nodes[i[u]].to_nodes: ## O(|V(g)|)\n",
    "          if x not in i:        ## O(|V(c)|) \n",
    "            f = MyDFSEdge((u, rmNode + 1, (gc.nodes[u].label, VACANT_LABEL, g.nodes[x].label)))\n",
    "            res.add(f)\n",
    "            if minExt[2] < u:   ## find max\n",
    "              minExt[2] = u\n",
    "        ## backward edge\n",
    "        for x in g.nodes[i[u]].from_nodes:\n",
    "          if x not in i:\n",
    "            f = MyDFSEdge((rmNode + 1, u, (g.nodes[x].label, VACANT_LABEL, gc.nodes[u].label)))\n",
    "            res.add(f)\n",
    "            if minExt[3] < u:\n",
    "              minExt[3] = u\n",
    "  \n",
    "  if min(minExt[0], minExt[1]) != rmNode:\n",
    "    if minExt[0] <= minExt[1]:\n",
    "      temp = MyDFSEdge((rmNode, minExt[0], (VACANT_INDEX, VACANT_LABEL, VACANT_INDEX)))\n",
    "    else:\n",
    "      temp = MyDFSEdge((minExt[1], rmNode,(VACANT_INDEX, VACANT_LABEL, VACANT_INDEX)))\n",
    "  else:\n",
    "    if minExt[2] >= minExt[3]:\n",
    "      temp = MyDFSEdge((minExt[2], rmNode+1,(VACANT_INDEX, VACANT_LABEL, VACANT_INDEX)))\n",
    "    else:\n",
    "      temp = MyDFSEdge((rmNode + 1, minExt[3], (VACANT_INDEX, VACANT_LABEL, VACANT_INDEX)))\n",
    "  \n",
    "  for i in res:\n",
    "    if temp[0] == i[0] and temp[1] == i[1]:\n",
    "      if temp[2][0] == -1 or temp[2] > i[2]:\n",
    "        temp = i\n",
    "\n",
    "  return res, temp"
   ]
  },
  {
   "cell_type": "code",
   "execution_count": null,
   "metadata": {
    "colab": {},
    "colab_type": "code",
    "executionInfo": {
     "elapsed": 32931,
     "status": "ok",
     "timestamp": 1595473791939,
     "user": {
      "displayName": "TUẤN NGUYỄN",
      "photoUrl": "",
      "userId": "09951512662861922656"
     },
     "user_tz": -420
    },
    "id": "Gcbh4SuSbgxf"
   },
   "outputs": [],
   "source": [
    "class MyDFSCode(list):\n",
    "  #def __init__(self):\n",
    "    # self.rmPath = list() ##list index of vertex from rightmost vertex to root in DFSCode \n",
    "\n",
    "  def __eq__(self, other):\n",
    "    la, lb = len(self), len(other)\n",
    "    if la != lb:\n",
    "        return False\n",
    "    for i in range(la):\n",
    "        if self[i] != other[i]:\n",
    "            return False\n",
    "    return True\n",
    "\n",
    "  def __ne__(self, other):\n",
    "    return not self.__eq__(other)\n",
    "\n",
    "  def getRMNode(self):\n",
    "    res = -1\n",
    "    for i in self:\n",
    "      res = max(res, i[0], i[1])\n",
    "    return res\n",
    "  \n",
    "  def toRMPath(self):\n",
    "    ''' list of edge_index from right_most_vertex to root'''\n",
    "    rmPath = []\n",
    "    old = None\n",
    "    for i in range(len(self)-1, -1, -1):\n",
    "      if i == len(self) - 1:\n",
    "        rmPath.append(i)\n",
    "      temp = self[i]\n",
    "      i1, i2 = temp[0], temp[1]\n",
    "      if i1 < i2 and (old == None or old == i2):\n",
    "        rmPath.append(i)\n",
    "        old = i1\n",
    "    return rmPath\n",
    "\n",
    "  # def getRMPathNodes(self):\n",
    "  #   res = []\n",
    "  #   for i in self.toRMPath():\n",
    "  #     i1, i2 = self[i][0], self[i][1]\n",
    "  #     if i1 not in res:\n",
    "  #       res.append(i1)\n",
    "  #     if i2 not in res:\n",
    "  #       res.append(i2)\n",
    "  #   res = sorted(res, reverse =  True)\n",
    "  #   return res\n",
    "  \n",
    "  def getRMPathNodes(self):\n",
    "    g = self.toGraph()\n",
    "    end = self.getRMNode()\n",
    "    res = find_shortest_path(g, 0, end, [])\n",
    "    if not res:\n",
    "      res = find_shortest_path_2(g, 0, end, [])\n",
    "    res = list(set(res))\n",
    "    return sorted(res, reverse = True)\n",
    "\n",
    "  \n",
    "  def toGraph(self):\n",
    "    g = MyGraph()\n",
    "    nodes = []\n",
    "    nodes_map = dict()\n",
    "    for i in self:   ## O(|c|)\n",
    "      i1, i2, (v1, e, v2) = i[0], i[1], i[2]\n",
    "      if i1 not in nodes:   ## O(|V(c)|)\n",
    "        nodes.append(i1)\n",
    "        nodes_map[i1] = len(nodes) - 1\n",
    "        g.addNode(MyNode(nodes_map[i1], v1))\n",
    "      if i2 not in nodes:\n",
    "        nodes.append(i2)\n",
    "        nodes_map[i2] = len(nodes) - 1\n",
    "        g.addNode(MyNode(nodes_map[i2], v2))\n",
    "      g.addEdge(MyEdge((nodes_map[i1], nodes_map[i2], e)))\n",
    "    return g\n",
    "\n",
    "  def isMin(self):\n",
    "    g = self.toGraph()\n",
    "    dfsMin = MyDFSCode()\n",
    "    for i in range(len(self)):\n",
    "      temp, s = rightMostPatExt(dfsMin, g)\n",
    "      # print (temp, s)\n",
    "      # print (dfsMin)\n",
    "      if len(temp) == 0:\n",
    "        print ('isMin', dfsMin, self)\n",
    "      if s != self[i]:\n",
    "        return False\n",
    "      dfsMin.append(s)\n",
    "    return True\n",
    "\n",
    "  \n",
    "  def extDFSCodeFromIndex(self, index):\n",
    "    res = []\n",
    "    g = self.toGraph()\n",
    "    extDFS = g.DFSvCode(index)\n",
    "    for i in g.edges:\n",
    "      if i not in extDFS:\n",
    "        extDFS.append(i)\n",
    "    for i in extDFS:\n",
    "      res.append(g.getDFSEdge(i))\n",
    "    return res\n",
    "\n",
    "  def mcopy(self):\n",
    "    res = type(self)()\n",
    "    for i in self:\n",
    "      res.append(i)\n",
    "    return res\n",
    "  \n",
    "  def isDFSCode(self):\n",
    "    for i in range(len(self)-1):\n",
    "      if self[i] >= self[i+1]:\n",
    "        return False\n",
    "    return True"
   ]
  },
  {
   "cell_type": "markdown",
   "metadata": {
    "colab_type": "text",
    "id": "BOJdQO6DP2ms"
   },
   "source": [
    "# FUNCTIONS"
   ]
  },
  {
   "cell_type": "code",
   "execution_count": null,
   "metadata": {
    "colab": {},
    "colab_type": "code",
    "executionInfo": {
     "elapsed": 32918,
     "status": "ok",
     "timestamp": 1595473791940,
     "user": {
      "displayName": "TUẤN NGUYỄN",
      "photoUrl": "",
      "userId": "09951512662861922656"
     },
     "user_tz": -420
    },
    "id": "X9Y8WVNdRgkr"
   },
   "outputs": [],
   "source": [
    "def find_shortest_path(graph, start, end, path=[]):\n",
    "  path = path + [start]\n",
    "  if start == end:\n",
    "      return path\n",
    "  temp = graph.nodes[start].to_nodes.copy()\n",
    "  if len(temp) == 0 :\n",
    "      return None\n",
    "  shortest = None\n",
    "  for node in temp:\n",
    "      if node not in path:\n",
    "          newpath = find_shortest_path(graph, node, end, path)\n",
    "          if newpath:\n",
    "              if not shortest or len(newpath) < len(shortest):\n",
    "                  shortest = newpath\n",
    "  return shortest"
   ]
  },
  {
   "cell_type": "code",
   "execution_count": null,
   "metadata": {
    "colab": {},
    "colab_type": "code",
    "executionInfo": {
     "elapsed": 32903,
     "status": "ok",
     "timestamp": 1595473791940,
     "user": {
      "displayName": "TUẤN NGUYỄN",
      "photoUrl": "",
      "userId": "09951512662861922656"
     },
     "user_tz": -420
    },
    "id": "UxTdtT5ITLFG"
   },
   "outputs": [],
   "source": [
    "def find_shortest_path_2(graph, start, end, path=[]):\n",
    "  path = path + [start]\n",
    "  if start == end:\n",
    "      return path\n",
    "  temp = graph.nodes[start].to_nodes + graph.nodes[start].from_nodes\n",
    "  if len(temp) == 0 :\n",
    "      return None\n",
    "  shortest = None\n",
    "  for node in temp:\n",
    "      if node not in path:\n",
    "          newpath = find_shortest_path_2(graph, node, end, path)\n",
    "          if newpath:\n",
    "              if not shortest or len(newpath) < len(shortest):\n",
    "                  shortest = newpath\n",
    "  return shortest"
   ]
  },
  {
   "cell_type": "markdown",
   "metadata": {
    "colab_type": "text",
    "id": "porfrU47Y8Hq"
   },
   "source": [
    "# drop_vertex_under_support Function"
   ]
  },
  {
   "cell_type": "code",
   "execution_count": null,
   "metadata": {
    "colab": {},
    "colab_type": "code",
    "executionInfo": {
     "elapsed": 32885,
     "status": "ok",
     "timestamp": 1595473791941,
     "user": {
      "displayName": "TUẤN NGUYỄN",
      "photoUrl": "",
      "userId": "09951512662861922656"
     },
     "user_tz": -420
    },
    "id": "pAkAz3buY6oE"
   },
   "outputs": [],
   "source": [
    "def drop_vertex_under_support(G, s):\n",
    "  res = MyGraph()\n",
    "  count_support_dict = G.getLabelNum() # count each label\n",
    "  \n",
    "  #drop vertex\n",
    "  idx_map = {} #{idx_old: idx_new}  -  Memory: [V]*2*sizeof(int)[+epsilon]\n",
    "  idx_vertex = 0\n",
    "  for node in G.nodes: # O(|V|)\n",
    "    if count_support_dict.get(node.label, -1) >= s:\n",
    "      res.nodes.append(MyNode(idx_vertex, node.label))\n",
    "      idx_map[node.id] =  idx_vertex\n",
    "      idx_vertex += 1\n",
    "\n",
    "  #drop edge\n",
    "  for edge in G.edges: # O(|E|)\n",
    "    if idx_map.get(edge[0], -1) != -1 and idx_map.get(edge[1], -1) != -1:\n",
    "      res.edges.add(MyEdge((idx_map[edge[0]], idx_map[edge[1]], edge[2])))\n",
    "      res.nodes[idx_map[edge[0]]].to_nodes.append(idx_map[edge[1]])\n",
    "      res.nodes[idx_map[edge[1]]].from_nodes.append(idx_map[edge[0]])\n",
    "\n",
    "  return res"
   ]
  },
  {
   "cell_type": "markdown",
   "metadata": {
    "colab_type": "text",
    "id": "9V38q9N1K1SB"
   },
   "source": [
    "# Improve FPMiner"
   ]
  },
  {
   "cell_type": "code",
   "execution_count": null,
   "metadata": {
    "colab": {},
    "colab_type": "code",
    "executionInfo": {
     "elapsed": 32871,
     "status": "ok",
     "timestamp": 1595473791942,
     "user": {
      "displayName": "TUẤN NGUYỄN",
      "photoUrl": "",
      "userId": "09951512662861922656"
     },
     "user_tz": -420
    },
    "id": "zHWWDM2rLU1E"
   },
   "outputs": [],
   "source": [
    "## return list of dfscode generate from c\n",
    "def genCandidateOpt(c, lbMatchingTo, lbMatchingFrom): \n",
    "  res = set()\n",
    "  R = c.getRMPathNodes()\n",
    "  rmNode = c.getRMNode()\n",
    "  gc = c.toGraph()\n",
    "  ## backward ext\n",
    "  for i in R[1:]:\n",
    "    if MyEdge((rmNode, i, VACANT_LABEL)) not in gc.edges:  ## be\n",
    "      res.add(MyDFSEdge((rmNode, i, (gc.nodes[rmNode].label, VACANT_LABEL, gc.nodes[i].label))))\n",
    "    if MyEdge((i, rmNode, VACANT_LABEL)) not in gc.edges:  ## fe\n",
    "      res.add(MyDFSEdge((i, rmNode, (gc.nodes[i].label, VACANT_LABEL, gc.nodes[rmNode].label))))\n",
    "  ## forward ext\n",
    "  for u in R:\n",
    "    for xx in lbMatchingTo[gc.nodes[u].label]:\n",
    "      res.add(MyDFSEdge((u, rmNode + 1, (gc.nodes[u].label, VACANT_LABEL, xx))))\n",
    "    for xx in lbMatchingFrom[gc.nodes[u].label]:\n",
    "      res.add(MyDFSEdge((rmNode + 1,u, (xx, VACANT_LABEL, gc.nodes[u].label))))\n",
    "  \n",
    "  return res\n"
   ]
  },
  {
   "cell_type": "code",
   "execution_count": null,
   "metadata": {
    "colab": {},
    "colab_type": "code",
    "executionInfo": {
     "elapsed": 32855,
     "status": "ok",
     "timestamp": 1595473791943,
     "user": {
      "displayName": "TUẤN NGUYỄN",
      "photoUrl": "",
      "userId": "09951512662861922656"
     },
     "user_tz": -420
    },
    "id": "XBpb0Nz2GIwJ"
   },
   "outputs": [],
   "source": [
    "def convertToGrami(f1, f2, f):\n",
    "  MODIFY_INDEX = 0\n",
    "  graph = MyGraph()\n",
    "  graph.loadData(f1, f2)\n",
    "  with open(f, 'w') as fi:\n",
    "    fi.write('# t 1\\n')\n",
    "    for n in graph.nodes:\n",
    "      fi.write(n.__repr__()+'\\n')\n",
    "    for e in graph.edges:\n",
    "      fi.write(e.__repr__()+'\\n')"
   ]
  },
  {
   "cell_type": "code",
   "execution_count": null,
   "metadata": {
    "colab": {},
    "colab_type": "code",
    "executionInfo": {
     "elapsed": 32841,
     "status": "ok",
     "timestamp": 1595473791944,
     "user": {
      "displayName": "TUẤN NGUYỄN",
      "photoUrl": "",
      "userId": "09951512662861922656"
     },
     "user_tz": -420
    },
    "id": "e9qwuU9fnTuY"
   },
   "outputs": [],
   "source": [
    "def convertMFtoMS2(MF):\n",
    "  if len(MF) == 0:\n",
    "    return list()\n",
    "  MS = []\n",
    "  for i in range(len(MF[0])):\n",
    "    MS.append(dict())\n",
    "  for i in MF:\n",
    "    for key in i:\n",
    "      MS[key][i[key]] = 1 if i[key] not in MS[key] else MS[key][i[key]]+1\n",
    "  return MS "
   ]
  },
  {
   "cell_type": "code",
   "execution_count": null,
   "metadata": {
    "colab": {},
    "colab_type": "code",
    "executionInfo": {
     "elapsed": 32826,
     "status": "ok",
     "timestamp": 1595473791945,
     "user": {
      "displayName": "TUẤN NGUYỄN",
      "photoUrl": "",
      "userId": "09951512662861922656"
     },
     "user_tz": -420
    },
    "id": "5rCojF__p2rO"
   },
   "outputs": [],
   "source": [
    "def readOutputGraMi(file):\n",
    "  cont = []\n",
    "  with open(file, 'r') as f:\n",
    "    for line in f.readlines():\n",
    "      cont.append(line.strip('\\n'))\n",
    "  ## get num of dfs codes\n",
    "  num = int(cont[1])\n",
    "\n",
    "  ## get list of graphs\n",
    "  res = []\n",
    "  for i in range(num):\n",
    "    res.append([])\n",
    "  count = -1\n",
    "  for i in cont[2:]:\n",
    "    if i[-1] == ':':\n",
    "      count += 1\n",
    "      continue\n",
    "    res[count].append(i)\n",
    "\n",
    "  resDFS = []\n",
    "\n",
    "  for i in res:\n",
    "    dfs = MyDFSCode()\n",
    "    nodes = []\n",
    "    for j in i:\n",
    "      temp = j.split(' ')\n",
    "      if temp[0] == 'v':\n",
    "        nodes.append(int(temp[2]))\n",
    "      else:\n",
    "        dfs.append(MyDFSEdge((int(temp[1]), int(temp[2]), (nodes[int(temp[1])], VACANT_LABEL, nodes[int(temp[2])]))))\n",
    "    resDFS.append(dfs.mcopy()) \n",
    "\n",
    "  return resDFS"
   ]
  },
  {
   "cell_type": "code",
   "execution_count": null,
   "metadata": {
    "colab": {},
    "colab_type": "code",
    "executionInfo": {
     "elapsed": 32813,
     "status": "ok",
     "timestamp": 1595473791946,
     "user": {
      "displayName": "TUẤN NGUYỄN",
      "photoUrl": "",
      "userId": "09951512662861922656"
     },
     "user_tz": -420
    },
    "id": "-XbP4B9gkfxj"
   },
   "outputs": [],
   "source": [
    "def compareGraMi(outGraMi, outFPM):\n",
    "  res = []\n",
    "  outDFS = outFPM.getAllDFSCode()\n",
    "  for dfs in outDFS:\n",
    "    if dfs not in outGraMi:\n",
    "      res.append(dfs.mcopy())\n",
    "  for dfs in outGraMi:\n",
    "    if dfs not in outDFS:\n",
    "      res.append(dfs.mcopy())\n",
    "  return res"
   ]
  },
  {
   "cell_type": "code",
   "execution_count": null,
   "metadata": {
    "colab": {},
    "colab_type": "code",
    "executionInfo": {
     "elapsed": 32800,
     "status": "ok",
     "timestamp": 1595473791947,
     "user": {
      "displayName": "TUẤN NGUYỄN",
      "photoUrl": "",
      "userId": "09951512662861922656"
     },
     "user_tz": -420
    },
    "id": "SKpxpBND86FV"
   },
   "outputs": [],
   "source": [
    "## Version: resp version 3 - Using LIST for MF\n",
    "## return list of list ordered node_index resp nodes in c - 2D\n",
    "\n",
    "def subgraphIsomorphisms3(c, g):   ## c: dfscode, g: graph\n",
    "  res = []\n",
    "  for i in range(len(g.nodes)):\n",
    "    if g.nodes[i].label == c[0][2][0]:\n",
    "      res.append([i])\n",
    "  for i in c:         ## O(|c|)\n",
    "    i1, i2, (vlb1, elb, vlb2) = i[0], i[1], i[2] \n",
    "    temp = []\n",
    "    for j in res:     ## O(|V(g)|) \n",
    "      if i2 > i1: ## forward edge\n",
    "        if i2 >= len(j):\n",
    "          for xx in g.nodes[j[i1]].to_nodes:   ## O(|V(g|)\n",
    "            if g.nodes[xx].label == vlb2 and xx not in j:\n",
    "                ##and getLabel(xx, u) == elb:## ignore label edge\n",
    "              j1 = j.copy()\n",
    "              j1.append(xx)\n",
    "              temp.append(j1.copy())\n",
    "        else:\n",
    "          if j[i1] in g.nodes[j[i2]].from_nodes:\n",
    "            temp.append(j.copy())\n",
    "      else:  ## backward edge\n",
    "        if i1 < len(j):\n",
    "          if j[i2] in g.nodes[j[i1]].to_nodes:\n",
    "            temp.append(j.copy())\n",
    "        else:\n",
    "          for xx in g.nodes[j[i2]].from_nodes:\n",
    "            if g.nodes[xx].label == vlb1 and xx not in j:\n",
    "              j1 = j.copy()\n",
    "              j1.append(xx)\n",
    "              temp.append(j1.copy())\n",
    "    res = temp.copy()\n",
    "  return res"
   ]
  },
  {
   "cell_type": "code",
   "execution_count": null,
   "metadata": {
    "colab": {},
    "colab_type": "code",
    "executionInfo": {
     "elapsed": 32786,
     "status": "ok",
     "timestamp": 1595473791947,
     "user": {
      "displayName": "TUẤN NGUYỄN",
      "photoUrl": "",
      "userId": "09951512662861922656"
     },
     "user_tz": -420
    },
    "id": "Xg8XRr8jNTle"
   },
   "outputs": [],
   "source": [
    "## Cacultating support from LIST 2D of MF\n",
    "def support2D(img):\n",
    "  if len(img) == 0:\n",
    "    return 0\n",
    "  temp = []\n",
    "  for i in range(len(img[0])):\n",
    "    temp.append(set())\n",
    "  for i in range (len(img)):\n",
    "    for j in range(len(img[i])):\n",
    "      temp[j].add(img[i][j])\n",
    "  res = len(temp[0])\n",
    "  for i in temp:\n",
    "    if res > len(i):\n",
    "      res = len(i)\n",
    "  return res"
   ]
  },
  {
   "cell_type": "code",
   "execution_count": null,
   "metadata": {
    "colab": {},
    "colab_type": "code",
    "executionInfo": {
     "elapsed": 32775,
     "status": "ok",
     "timestamp": 1595473791949,
     "user": {
      "displayName": "TUẤN NGUYỄN",
      "photoUrl": "",
      "userId": "09951512662861922656"
     },
     "user_tz": -420
    },
    "id": "r4FIi35Xk2v3"
   },
   "outputs": [],
   "source": [
    "## O(|E|^2)\n",
    "## Version resp 4\n",
    "def MinerPattern2Opt4(g, s):\n",
    "  QSet = dict()  ##  {vevlb: DFSCode resp}\n",
    "  QMF = dict() ## {vevlb: [list of list: image of DFSCode]} all\n",
    "  supps = dict()\n",
    "  nodes = set()\n",
    "  MF = dict () ## {vevlb: [list of list]} : frequent patterns\n",
    "  for e in g.edges:\n",
    "    dfse = g.getDFSEdge(e)\n",
    "    if dfse[2] not in QMF:\n",
    "      QMF[dfse[2]] = [[e[0], e[1]]]\n",
    "    else:\n",
    "      QMF[dfse[2]].append([e[0], e[1]])\n",
    "  for key in QMF:\n",
    "    sup = support2D(QMF[key])\n",
    "    if sup >= s:\n",
    "      QSet[key] = MyDFSCode([MyDFSEdge((0, 1, key))])\n",
    "      supps[key] = sup\n",
    "      nodes.update(v[0] for v in QMF[key])\n",
    "      nodes.update(v[1] for v in QMF[key])\n",
    "      MF[key] = QMF[key].copy()\n",
    "  nodes = list(nodes)\n",
    "  return QSet, supps, MF, nodes"
   ]
  },
  {
   "cell_type": "code",
   "execution_count": null,
   "metadata": {
    "colab": {},
    "colab_type": "code",
    "executionInfo": {
     "elapsed": 32754,
     "status": "ok",
     "timestamp": 1595473791950,
     "user": {
      "displayName": "TUẤN NGUYỄN",
      "photoUrl": "",
      "userId": "09951512662861922656"
     },
     "user_tz": -420
    },
    "id": "7PvdeWhPkvuM"
   },
   "outputs": [],
   "source": [
    "def pruneEdge4(g, MF, nodes):\n",
    "  newGraph = MyGraph()\n",
    "  nodes_map = dict()\n",
    "  for i in range(len(nodes)):\n",
    "    nodes_map[nodes[i]] = i\n",
    "    newGraph.nodes.append(MyNode(i, g.nodes[nodes[i]].label))\n",
    "  for i in MF:\n",
    "    index = 0\n",
    "    for v in MF[i]:\n",
    "      v0, v1 = nodes_map[v[0]], nodes_map[v[1]] \n",
    "      newGraph.edges.add(MyEdge((v0, v1, VACANT_LABEL)))\n",
    "      newGraph.nodes[v0].to_nodes.append(v1)\n",
    "      newGraph.nodes[v1].from_nodes.append(v0)\n",
    "      MF[i][index] = [v0, v1].copy()\n",
    "      index += 1 \n",
    "  return newGraph"
   ]
  },
  {
   "cell_type": "code",
   "execution_count": null,
   "metadata": {
    "colab": {},
    "colab_type": "code",
    "executionInfo": {
     "elapsed": 32739,
     "status": "ok",
     "timestamp": 1595473791951,
     "user": {
      "displayName": "TUẤN NGUYỄN",
      "photoUrl": "",
      "userId": "09951512662861922656"
     },
     "user_tz": -420
    },
    "id": "2_rqf6EDRDuc"
   },
   "outputs": [],
   "source": [
    "def convertMFtoMS6(img):\n",
    "  if len(img) == 0:\n",
    "    return 0\n",
    "  temp = []\n",
    "  for i in range(len(img[0])):\n",
    "    temp.append(set())\n",
    "  for i in range (len(img)):\n",
    "    for j in range(len(img[i])):\n",
    "      temp[j].add(img[i][j])\n",
    "  return temp"
   ]
  },
  {
   "cell_type": "code",
   "execution_count": null,
   "metadata": {
    "colab": {},
    "colab_type": "code",
    "executionInfo": {
     "elapsed": 32726,
     "status": "ok",
     "timestamp": 1595473791951,
     "user": {
      "displayName": "TUẤN NGUYỄN",
      "photoUrl": "",
      "userId": "09951512662861922656"
     },
     "user_tz": -420
    },
    "id": "qifaVlA5e-Zj"
   },
   "outputs": [],
   "source": [
    "## Version: resp version 7\n",
    "## Key Idea: Recursive\n",
    "## Target: Optimize time\n",
    "## return SUPPORT & MS\n",
    "\n",
    "def subgraphIsomorphisms7(c, g, s, MS):   ## c: dfscode, g: graph\n",
    "  node0 = MS[0].copy()\n",
    "\n",
    "  count = 0\n",
    "\n",
    "  res = []\n",
    "  for i in range(c.getRMNode() + 1):\n",
    "    res.append(set())\n",
    "  \n",
    "  for n0 in node0:\n",
    "    iso = []\n",
    "    iso.append([n0])\n",
    "    for i in c[:-1]:         ## O(|c|)\n",
    "      i1, i2, (vlb1, elb, vlb2) = i[0], i[1], i[2] \n",
    "      temp = []\n",
    "      for j in iso:     ## O(|V(g)|) \n",
    "        if i2 >= len(j):  ## fw ext\n",
    "          for xx in g.nodes[j[i1]].to_nodes:   ## O(|V(g|)\n",
    "            if xx in MS[i2] and xx not in j:\n",
    "              j1 = j.copy()\n",
    "              j1.append(xx)\n",
    "              temp.append(j1.copy())\n",
    "        elif i1 >= len(j):  ## fw ext bw ed\n",
    "          for xx in g.nodes[j[i2]].from_nodes:\n",
    "            if xx in MS[i1] and xx not in j:\n",
    "              j1 = j.copy()\n",
    "              j1.append(xx)\n",
    "              temp.append(j1.copy())\n",
    "        else:\n",
    "          if MyEdge((i1, i2, elb)) in g.edges:\n",
    "            temp.append(j.copy())\n",
    "    \n",
    "      iso = temp.copy()\n",
    "    \n",
    "    i1, i2, (vlb1, elb, vlb2) = c[-1][0], c[-1][1], c[-1][2] \n",
    "    for j in iso:     ## O(|V(g)|) \n",
    "      if i2 >= len(j):  ## fw ext\n",
    "        for xx in g.nodes[j[i1]].to_nodes:   ## O(|V(g|)\n",
    "          if g.nodes[xx].label == vlb2 and xx not in j:\n",
    "            j1 = j.copy()\n",
    "            j1.append(xx)\n",
    "            temp.append(j1.copy())\n",
    "      elif i1 >= len(j):  ## fw ext bw ed\n",
    "        for xx in g.nodes[j[i2]].from_nodes:\n",
    "          if g.nodes[xx].label == vlb1 and xx not in j:\n",
    "            j1 = j.copy()\n",
    "            j1.append(xx)\n",
    "            temp.append(j1.copy())\n",
    "      else:\n",
    "        if MyEdge((i1, i2, elb)) in g.edges:\n",
    "          temp.append(j.copy())\n",
    "    \n",
    "    iso = temp.copy()\n",
    "\n",
    "    if len(iso) == 0:\n",
    "      count += 1\n",
    "      if count > len(node0) - s:\n",
    "        return -1, list()\n",
    "    else:\n",
    "      for k in iso:\n",
    "        for l in range(len(k)):\n",
    "          res[l].add(k[l])\n",
    "  \n",
    "  supp = len(res[0])\n",
    "  for i in res:\n",
    "    if supp > len(i):\n",
    "      supp = len(i)\n",
    "\n",
    "  return supp, res"
   ]
  },
  {
   "cell_type": "code",
   "execution_count": null,
   "metadata": {
    "colab": {},
    "colab_type": "code",
    "executionInfo": {
     "elapsed": 32715,
     "status": "ok",
     "timestamp": 1595473791952,
     "user": {
      "displayName": "TUẤN NGUYỄN",
      "photoUrl": "",
      "userId": "09951512662861922656"
     },
     "user_tz": -420
    },
    "id": "1rslwFpliEFx"
   },
   "outputs": [],
   "source": [
    "## version 8 resp - using subgraphIso8\n",
    "\n",
    "def PatExtOpt7(c, g, s, temp, lbTo, lbFrom, MS):\n",
    "  print ('start gen')\n",
    "  cdds = genCandidateOpt(c, lbTo, lbFrom)\n",
    "  print ('end gen', len(cdds))\n",
    "  print ('c', c)\n",
    "  for cd in cdds:\n",
    "    new = c.mcopy()\n",
    "    new.append(cd)\n",
    "    if new.isMin():\n",
    "      print ('cd', cd)\n",
    "      sup, newMS = subgraphIsomorphisms7(new, g, s, MS)\n",
    "      print ('sup', sup)\n",
    "      if sup >= s:\n",
    "        newtemp = MyCodeGraph(new, sup)\n",
    "        temp.addChild(newtemp)\n",
    "        print ('newtemp', newtemp)\n",
    "        PatExtOpt7(new, g, s, newtemp, lbTo, lbFrom, newMS)\n",
    "      else:\n",
    "        newMS.clear()"
   ]
  },
  {
   "cell_type": "code",
   "execution_count": null,
   "metadata": {
    "colab": {},
    "colab_type": "code",
    "executionInfo": {
     "elapsed": 32703,
     "status": "ok",
     "timestamp": 1595473791953,
     "user": {
      "displayName": "TUẤN NGUYỄN",
      "photoUrl": "",
      "userId": "09951512662861922656"
     },
     "user_tz": -420
    },
    "id": "kIixBye8iLVD"
   },
   "outputs": [],
   "source": [
    "def FPMinerOpt7(g, s):\n",
    "  g1 = drop_vertex_under_support(g, s)\n",
    "  QSet, s2, MF2, nodes = MinerPattern2Opt4(g1, s)\n",
    "  g2 = pruneEdge4(g1, MF2, nodes)\n",
    "  lbTo = g2.getLabelMatching()\n",
    "  lbFrom = g2.getLabelMatchingFrom()\n",
    "  res = MyCodeGraph()\n",
    "  print (len(g2.edges), len(g2.nodes))\n",
    "  for i in QSet:\n",
    "    temp = MyCodeGraph(QSet[i], s2[i])\n",
    "    res.addChild(temp)\n",
    "    MS = convertMFtoMS6(MF2[i])\n",
    "    # index = 0 if len(MS[0]) <= len(MS[1]) else 1\n",
    "    PatExtOpt7(QSet[i], g2, s, temp, lbTo, lbFrom, MS)\n",
    "  return res"
   ]
  },
  {
   "cell_type": "markdown",
   "metadata": {
    "colab_type": "text",
    "id": "H0h0pZNr8NRK"
   },
   "source": [
    "# Improve 8"
   ]
  },
  {
   "cell_type": "code",
   "execution_count": null,
   "metadata": {
    "colab": {},
    "colab_type": "code",
    "executionInfo": {
     "elapsed": 32690,
     "status": "ok",
     "timestamp": 1595473791953,
     "user": {
      "displayName": "TUẤN NGUYỄN",
      "photoUrl": "",
      "userId": "09951512662861922656"
     },
     "user_tz": -420
    },
    "id": "OqiJJQ2R8O5s"
   },
   "outputs": [],
   "source": [
    "## Version: resp version 8\n",
    "## Improve from version 6 - reuse MS - extension from node with min supp\n",
    "## Target: Optimize time\n",
    "## return SUPPORT & MS\n",
    "\n",
    "def subgraphIsomorphisms8(c, g, s, MS, index):   ## c: dfscode, g: graph\n",
    "  node0 = MS[index].copy()\n",
    "\n",
    "  count = 0\n",
    "\n",
    "  res = []\n",
    "  for i in range(c.getRMNode() + 1):\n",
    "    res.append(set())\n",
    "\n",
    "  for n0 in node0:\n",
    "    aa = [-1] * len(res)\n",
    "    aa[index] = n0\n",
    "    iso = []\n",
    "    iso.append(aa.copy())\n",
    "    for i in c.extDFSCodeFromIndex(index):         ## O(|c|)\n",
    "      i1, i2, (vlb1, elb, vlb2) = i[0], i[1], i[2] \n",
    "      temp = []\n",
    "      for j in iso:     ## O(|V(g)|) \n",
    "        if j[i2] == -1:  ## fw ext\n",
    "          for xx in g.nodes[j[i1]].to_nodes:   ## O(|V(g|)\n",
    "            if g.nodes[xx].label == vlb2 and xx not in j:\n",
    "              ##and getLabel(xx, u) == elb:## ignore label edge\n",
    "              j[i2] = xx\n",
    "              temp.append(j.copy())\n",
    "        elif j[i1] == -1:  ## backward edge \n",
    "          for xx in g.nodes[j[i2]].from_nodes:\n",
    "            # if ((i1 < len(MS) and xx in MS[i1]) or g.nodes[xx].label == vlb1) and xx not in j:\n",
    "            if g.nodes[xx].label == vlb1 and xx not in j:\n",
    "              j[i1] = xx\n",
    "              temp.append(j.copy())\n",
    "        else:\n",
    "          if MyEdge((j[i1], j[i2], elb)) in g.edges:\n",
    "            temp.append(j.copy())\n",
    "      \n",
    "      iso = temp.copy()\n",
    "    \n",
    "    if len(iso) == 0:\n",
    "      count += 1\n",
    "      if count > len(node0) - s:\n",
    "        return -1, list(), -1\n",
    "    else:\n",
    "      for k in iso:\n",
    "        for l in range(len(k)):\n",
    "          res[l].add(k[l])\n",
    "  \n",
    "  for i in range(len(res)):\n",
    "    if len(res[index]) > len(res[i]):\n",
    "      index = i\n",
    "\n",
    "  return len(res[index]), res, index"
   ]
  },
  {
   "cell_type": "code",
   "execution_count": null,
   "metadata": {
    "colab": {},
    "colab_type": "code",
    "executionInfo": {
     "elapsed": 32677,
     "status": "ok",
     "timestamp": 1595473791954,
     "user": {
      "displayName": "TUẤN NGUYỄN",
      "photoUrl": "",
      "userId": "09951512662861922656"
     },
     "user_tz": -420
    },
    "id": "mfaKwl5GGgNJ"
   },
   "outputs": [],
   "source": [
    "def recursive(dfse, iso, g):\n",
    "  newiso = []\n",
    "  i1, i2, (vlb1, elb, vlb2) = dfse[0], dfse[1], dfse[2]\n",
    "  for i in iso:\n",
    "    if i2 >= len(i):\n",
    "      temp = []\n",
    "      for xx in g.nodes[i1].to_nodes:\n",
    "        if g.nodes[xx].label == vlb2 and xx not in j:\n",
    "          temp.append(xx)\n",
    "      if len(temp) > 0:\n",
    "        newiso.append([i, temp])\n"
   ]
  },
  {
   "cell_type": "code",
   "execution_count": null,
   "metadata": {
    "colab": {},
    "colab_type": "code",
    "executionInfo": {
     "elapsed": 32667,
     "status": "ok",
     "timestamp": 1595473791955,
     "user": {
      "displayName": "TUẤN NGUYỄN",
      "photoUrl": "",
      "userId": "09951512662861922656"
     },
     "user_tz": -420
    },
    "id": "Vjnax8yvRPXW"
   },
   "outputs": [],
   "source": [
    "## version 8 resp - using subgraphIso8\n",
    "\n",
    "def PatExtOpt8(c, g, s, temp, lbTo, lbFrom, MS, index):\n",
    "#   print ('start gen')\n",
    "  cdds = genCandidateOpt(c, lbTo, lbFrom)\n",
    "#   print ('end gen', len(cdds))\n",
    "#   print ('c', c)\n",
    "  for cd in cdds:\n",
    "    new = c.mcopy()\n",
    "    new.append(cd)\n",
    "    if new.isMin():\n",
    "#       print ('cd', cd)\n",
    "      sup, newMS, newIndex = subgraphIsomorphisms8(new, g, s, MS, index)\n",
    "#       print ('sup', sup, newIndex)\n",
    "      if sup >= s:\n",
    "        newtemp = MyCodeGraph(new, sup)\n",
    "        temp.addChild(newtemp)\n",
    "#         print ('newtemp', newtemp)\n",
    "        PatExtOpt8(new, g, s, newtemp, lbTo, lbFrom, newMS, newIndex)\n",
    "      else:\n",
    "        newMS.clear()"
   ]
  },
  {
   "cell_type": "code",
   "execution_count": null,
   "metadata": {
    "colab": {},
    "colab_type": "code",
    "executionInfo": {
     "elapsed": 32654,
     "status": "ok",
     "timestamp": 1595473791955,
     "user": {
      "displayName": "TUẤN NGUYỄN",
      "photoUrl": "",
      "userId": "09951512662861922656"
     },
     "user_tz": -420
    },
    "id": "_J6HhCnTRksI"
   },
   "outputs": [],
   "source": [
    "def FPMinerOpt8(g, s):\n",
    "  g1 = drop_vertex_under_support(g, s)\n",
    "  QSet, s2, MF2, nodes = MinerPattern2Opt4(g1, s)\n",
    "  g2 = pruneEdge4(g1, MF2, nodes)\n",
    "  lbTo = g2.getLabelMatching()\n",
    "  lbFrom = g2.getLabelMatchingFrom()\n",
    "  res = MyCodeGraph()\n",
    "  print (len(g2.edges), len(g2.nodes))\n",
    "  for i in QSet:\n",
    "    temp = MyCodeGraph(QSet[i], s2[i])\n",
    "    res.addChild(temp)\n",
    "    MS = convertMFtoMS6(MF2[i])\n",
    "    index = 0 if len(MS[0]) <= len(MS[1]) else 1\n",
    "    PatExtOpt8(QSet[i], g2, s, temp, lbTo, lbFrom, MS, index)\n",
    "  return res"
   ]
  },
  {
   "cell_type": "markdown",
   "metadata": {
    "colab_type": "text",
    "id": "UztCW3swlCma"
   },
   "source": [
    "# RuleGen"
   ]
  },
  {
   "cell_type": "code",
   "execution_count": null,
   "metadata": {
    "colab": {},
    "colab_type": "code",
    "executionInfo": {
     "elapsed": 32642,
     "status": "ok",
     "timestamp": 1595473791956,
     "user": {
      "displayName": "TUẤN NGUYỄN",
      "photoUrl": "",
      "userId": "09951512662861922656"
     },
     "user_tz": -420
    },
    "id": "ADIHh_R5ly-s"
   },
   "outputs": [],
   "source": [
    "def repRuleGen(gc, n):\n",
    "  s, conf = [], []\n",
    "  q = queue.Queue()\n",
    "  gcList = gc.getBFSearch()   ## get all (data, supp) in codeGraph by BFS\n",
    "  leafList = gc.getTrueLeaf()\n",
    "  for i in range(len(leafList)):\n",
    "    q = queue.Queue()\n",
    "    q.put(leafList[i])\n",
    "    while not q.empty():\n",
    "      qR = q.get()\n",
    "      ancestors = genAncestors(gcList, qR[0])\n",
    "      for ql, qr in ancestors:    ## get all ancestors ql of qR\n",
    "        q.put(ql)\n",
    "        if qR[1]/ql[1] >= n and isConnected(qr):\n",
    "          if (ql[0], qr) not in s:\n",
    "            s.append((ql[0], qr))\n",
    "            conf.append(qR[1]/ql[1])\n",
    "  return s, conf"
   ]
  },
  {
   "cell_type": "code",
   "execution_count": null,
   "metadata": {
    "colab": {},
    "colab_type": "code",
    "executionInfo": {
     "elapsed": 32629,
     "status": "ok",
     "timestamp": 1595473791957,
     "user": {
      "displayName": "TUẤN NGUYỄN",
      "photoUrl": "",
      "userId": "09951512662861922656"
     },
     "user_tz": -420
    },
    "id": "3cT-29l5pVhn"
   },
   "outputs": [],
   "source": [
    "def ruleGen(gc, n):\n",
    "  s, conf = [], []\n",
    "  q = queue.Queue()\n",
    "  gcList = gc.getBFSearch()   ## get all (data, supp) in codeGraph by BFS\n",
    "  for i in range(len(gcList)):\n",
    "    q = queue.Queue()\n",
    "    q.put(gcList[i])\n",
    "    while not q.empty():\n",
    "      qR = q.get()\n",
    "      ancestors = genAncestors(gcList, qR[0])\n",
    "      for ql, qr in ancestors:    ## get all ancestors ql of qR\n",
    "        q.put(ql)\n",
    "        if qR[1]/ql[1] >= n and isConnected(qr):\n",
    "          if (ql[0], qr) not in s:\n",
    "            s.append((ql[0], qr))\n",
    "            conf.append(qR[1]/ql[1])\n",
    "  return s, conf"
   ]
  },
  {
   "cell_type": "code",
   "execution_count": null,
   "metadata": {
    "colab": {},
    "colab_type": "code",
    "executionInfo": {
     "elapsed": 32617,
     "status": "ok",
     "timestamp": 1595473791958,
     "user": {
      "displayName": "TUẤN NGUYỄN",
      "photoUrl": "",
      "userId": "09951512662861922656"
     },
     "user_tz": -420
    },
    "id": "XzbAWsjM_HX0"
   },
   "outputs": [],
   "source": [
    "def genAncestors(gc, dfscode):\n",
    "  res = []\n",
    "  for i in gc:\n",
    "    if len(i[0]) < len(dfscode):\n",
    "      iso = subgraphIsomorphisms(i[0], dfscode.toGraph())\n",
    "      if len(iso) > 0:\n",
    "        for j in iso:\n",
    "          temp = MyDFSCode()\n",
    "          for k in range(len(i[0])):\n",
    "            dfse = MyDFSEdge((j[i[0][k][0]], j[i[0][k][1]], i[0][k][2]))\n",
    "            temp.append(dfse)\n",
    "          res.append((temp.mcopy(), i[1]))  \n",
    "    else:\n",
    "      break\n",
    "  return res"
   ]
  },
  {
   "cell_type": "code",
   "execution_count": null,
   "metadata": {
    "colab": {},
    "colab_type": "code",
    "executionInfo": {
     "elapsed": 32604,
     "status": "ok",
     "timestamp": 1595473791958,
     "user": {
      "displayName": "TUẤN NGUYỄN",
      "photoUrl": "",
      "userId": "09951512662861922656"
     },
     "user_tz": -420
    },
    "id": "0g8zPSwCFOsx"
   },
   "outputs": [],
   "source": [
    "def genAncestors(gc, dfscode):\n",
    "  res = []\n",
    "  for i in gc:\n",
    "    if len(i[0]) < len(dfscode):\n",
    "      iso = subgraphIsomorphisms(i[0], dfscode.toGraph())\n",
    "      if len(iso) > 0:\n",
    "        nodes_map = iso[0].copy()\n",
    "        dfs = MyDFSCode()\n",
    "        for k in i[0]:\n",
    "            dfse = MyDFSEdge((nodes_map[k[0]], nodes_map[k[1]], k[2]))\n",
    "            dfs.append(dfse)\n",
    "        qr = genConsequence(dfs, dfscode)\n",
    "        \n",
    "        newqr = MyDFSCode()\n",
    "        for k in qr:\n",
    "            if k[0] not in nodes_map:\n",
    "              nodes_map.append(k[0])\n",
    "            if k[1] not in nodes_map:\n",
    "              nodes_map.append(k[1])\n",
    "            newqr.append(MyDFSEdge((nodes_map.index(k[0]), nodes_map.index(k[1]), k[2])))\n",
    "        \n",
    "        res.append(((i[0].mcopy(), i[1]), newqr)) \n",
    "    else:\n",
    "      break\n",
    "  return res"
   ]
  },
  {
   "cell_type": "code",
   "execution_count": null,
   "metadata": {},
   "outputs": [],
   "source": [
    "def genAncestors(gc, dfscode):\n",
    "  res = []\n",
    "  for i in gc:\n",
    "    if len(i[0]) < len(dfscode):\n",
    "      iso = subgraphIsomorphisms(i[0], dfscode.toGraph())\n",
    "      if len(iso) > 0:\n",
    "        nodes_map = iso[0].copy()\n",
    "        dfs = MyDFSCode()\n",
    "        for k in i[0]:\n",
    "            dfse = MyDFSEdge((nodes_map[k[0]], nodes_map[k[1]], k[2]))\n",
    "            dfs.append(dfse)\n",
    "        qr = genConsequence(dfs, dfscode)\n",
    "        \n",
    "        newqr = MyDFSCode()\n",
    "        for k in qr:\n",
    "            if k[0] not in nodes_map:\n",
    "              nodes_map.append(k[0])\n",
    "            if k[1] not in nodes_map:\n",
    "              nodes_map.append(k[1])\n",
    "            newqr.append(MyDFSEdge((nodes_map.index(k[0]), nodes_map.index(k[1]), k[2])))\n",
    "            \n",
    "        res.append(((i[0].mcopy(), i[1]), newqr)) \n",
    "    else:\n",
    "      break\n",
    "  return res"
   ]
  },
  {
   "cell_type": "code",
   "execution_count": null,
   "metadata": {
    "colab": {},
    "colab_type": "code",
    "executionInfo": {
     "elapsed": 32591,
     "status": "ok",
     "timestamp": 1595473791959,
     "user": {
      "displayName": "TUẤN NGUYỄN",
      "photoUrl": "",
      "userId": "09951512662861922656"
     },
     "user_tz": -420
    },
    "id": "_HqLpNlfFKP1"
   },
   "outputs": [],
   "source": [
    "def isConnected(dfscode):\n",
    "  g = dfscode.toGraph()\n",
    "  # g.display()\n",
    "  dfs = g.DFSUndirected(0)\n",
    "  # print (dfs)\n",
    "  return len(dfs) == len(g.nodes) "
   ]
  },
  {
   "cell_type": "code",
   "execution_count": null,
   "metadata": {
    "colab": {},
    "colab_type": "code",
    "executionInfo": {
     "elapsed": 32576,
     "status": "ok",
     "timestamp": 1595473791959,
     "user": {
      "displayName": "TUẤN NGUYỄN",
      "photoUrl": "",
      "userId": "09951512662861922656"
     },
     "user_tz": -420
    },
    "id": "n80bUYRMEfrS"
   },
   "outputs": [],
   "source": [
    "def genConsequence(anc, code):\n",
    "  res = MyDFSCode()\n",
    "  for i in code:\n",
    "    if i not in anc:\n",
    "      res.append(i)\n",
    "  return res"
   ]
  },
  {
   "cell_type": "code",
   "execution_count": null,
   "metadata": {
    "colab": {},
    "colab_type": "code",
    "executionInfo": {
     "elapsed": 33035,
     "status": "ok",
     "timestamp": 1595473792435,
     "user": {
      "displayName": "TUẤN NGUYỄN",
      "photoUrl": "",
      "userId": "09951512662861922656"
     },
     "user_tz": -420
    },
    "id": "BFZlxf-XFjTI"
   },
   "outputs": [],
   "source": [
    "def toMinRule(ql, qr):\n",
    "  g = MyGraph()\n",
    "  nodes = []\n",
    "  nodes_map = dict()\n",
    "  for i in ql:   ## O(|c|)\n",
    "    i1, i2, (v1, e, v2) = i[0], i[1], i[2]\n",
    "    if i1 not in nodes_map:   ## O(|V(c)|)\n",
    "      nodes.append(i1)\n",
    "      nodes_map[i1] = len(nodes) - 1\n",
    "      g.addNode(MyNode(nodes_map[i1], v1))\n",
    "    if i2 not in nodes_map:\n",
    "      nodes.append(i2)\n",
    "      nodes_map[i2] = len(nodes) - 1\n",
    "      g.addNode(MyNode(nodes_map[i2], v2))\n",
    "    g.addEdge(MyEdge((nodes_map[i1], nodes_map[i2], e)))\n",
    "  newql = g.toDFSMin()\n",
    "  newqr = MyDFSCode()\n",
    "  for i in qr:\n",
    "    if i[0] not in nodes_map:\n",
    "      nodes.append(i[0])\n",
    "      nodes_map[i[0]] = len(nodes) - 1\n",
    "    if i[1] not in nodes_map:\n",
    "      nodes.append(i[1])\n",
    "      nodes_map[i[1]] = len(nodes) - 1\n",
    "    newqr.append(MyDFSEdge((nodes_map[i[0]], nodes_map[i[1]], i[2])))\n",
    "  return newql, newqr"
   ]
  },
  {
   "cell_type": "code",
   "execution_count": null,
   "metadata": {
    "colab": {},
    "colab_type": "code",
    "executionInfo": {
     "elapsed": 33020,
     "status": "ok",
     "timestamp": 1595473792437,
     "user": {
      "displayName": "TUẤN NGUYỄN",
      "photoUrl": "",
      "userId": "09951512662861922656"
     },
     "user_tz": -420
    },
    "id": "_EeqFDvu4k8w"
   },
   "outputs": [],
   "source": [
    "def genNewEdges(rule, g):\n",
    "    res = set()\n",
    "    labelDict = g.getLabelDict()\n",
    "\n",
    "    ql, qr = rule[0], rule[1]\n",
    "    iso = subgraphIsomorphisms(ql, g)\n",
    "    for c in qr:\n",
    "      i1, i2, (vlb1, elb, vlb2) = c[0], c[1], c[2] \n",
    "      temp = []\n",
    "      for j in iso:     ## O(|V(g)|) \n",
    "        if i2 >= len(j):\n",
    "          for xx in labelDict[vlb2]:   ## O(|V(g|)\n",
    "            if MyEdge((j[i1], xx, elb)) not in g.edges and xx not in j:\n",
    "              j1 = j.copy()\n",
    "              j1.append(xx)\n",
    "              temp.append(j1.copy())\n",
    "              res.add(MyEdge((j[i1], xx, elb)))\n",
    "        elif i1 >= len(j):\n",
    "          for xx in labelDict[vlb1]:\n",
    "            if MyEdge((xx, j[i2], elb)) not in g.edges and xx not in j:\n",
    "              j1 = j.copy()\n",
    "              j1.append(xx)\n",
    "              temp.append(j1.copy())\n",
    "              res.add(MyEdge((xx, j[i2], elb)))\n",
    "        else:\n",
    "          if MyEdge((j[i1], j[i2], elb)) not in g.edges:\n",
    "            temp.append(j.copy())\n",
    "            res.add(MyEdge((j[i1], j[i2], elb)))\n",
    "      iso = temp.copy()\n",
    "    return res"
   ]
  },
  {
   "cell_type": "code",
   "execution_count": null,
   "metadata": {},
   "outputs": [],
   "source": [
    "def genNewEdges(rule, g):\n",
    "    res = set()\n",
    "    labelDict = g.getLabelDict()\n",
    "\n",
    "    ql, qr = rule[0], rule[1]\n",
    "#     print ('rule', rule)\n",
    "    iso = subgraphIsomorphisms(ql, g)\n",
    "    for i in iso:\n",
    "        isoo = []\n",
    "        isoo.append(i.copy())\n",
    "        for c in qr:\n",
    "#             print ('c', c)\n",
    "            i1, i2, (vlb1, elb, vlb2) = c[0], c[1], c[2] \n",
    "            temp = []\n",
    "            for j in isoo:     ## O(|V(g)|) \n",
    "#                 print ('j' , j)\n",
    "                if i2 >= len(j) and i1 >= len(j):\n",
    "                    break\n",
    "                if i2 >= len(j):\n",
    "                  for xx in labelDict[vlb2]:   ## O(|V(g|)\n",
    "                    if MyEdge((j[i1], xx, elb)) not in g.edges and xx not in j:\n",
    "                        j1 = j.copy()\n",
    "                        j1.append(xx)\n",
    "                        temp.append(j1.copy())\n",
    "                elif i1 >= len(j):\n",
    "                  for xx in labelDict[vlb1]:\n",
    "                    if MyEdge((xx, j[i2], elb)) not in g.edges and xx not in j:\n",
    "                        j1 = j.copy()\n",
    "                        j1.append(xx)\n",
    "                        temp.append(j1.copy())\n",
    "                else:\n",
    "                  if MyEdge((j[i1], j[i2], elb)) not in g.edges:\n",
    "                    temp.append(j.copy())\n",
    "                    \n",
    "            isoo = temp.copy()\n",
    "        if (len(isoo) > 0):\n",
    "            for k in isoo:\n",
    "                for c in qr:\n",
    "                    res.add(MyDFSEdge((k[c[0]], k[c[1]], c[2])))\n",
    "    return res"
   ]
  },
  {
   "cell_type": "code",
   "execution_count": null,
   "metadata": {
    "colab": {},
    "colab_type": "code",
    "executionInfo": {
     "elapsed": 33006,
     "status": "ok",
     "timestamp": 1595473792438,
     "user": {
      "displayName": "TUẤN NGUYỄN",
      "photoUrl": "",
      "userId": "09951512662861922656"
     },
     "user_tz": -420
    },
    "id": "j64eyi4wkbt9"
   },
   "outputs": [],
   "source": [
    "def plot(self, newEdges):\n",
    "    try:\n",
    "      import networkx as nx\n",
    "      import matplotlib.pyplot as plt\n",
    "      import matplotlib.colors as mcolors\n",
    "    except Exception as e:\n",
    "      print('Can not plot graph: {}'.format(e))\n",
    "      return\n",
    "    #cycle = list(mcolors.CSS4_COLORS.keys())\n",
    "    cycle = plt.rcParams['axes.prop_cycle'].by_key()['color']\n",
    "    gnx = nx.DiGraph()\n",
    "    vlbs = {}\n",
    "    elbs = {}\n",
    "    vids = {}\n",
    "    for i in range(len(self.nodes)):\n",
    "      gnx.add_node(i, label= self.nodes[i].label)\n",
    "      vlbs[i] = self.nodes[i].label\n",
    "      vids[i] = i\n",
    "    for e in self.edges:\n",
    "      gnx.add_edge(e[0], e[1], label=e[2])\n",
    "      elbs[(e[0], e[1])] = 0\n",
    "    for e in newEdges:\n",
    "      gnx.add_edge(e[0], e[1], label = e[2])\n",
    "      elbs[(e[0], e[1])] = 1\n",
    "    colors = ['black', 'red']\n",
    "    vcolors = [cycle[i%len(cycle)] for i in vlbs.values()]\n",
    "    ecolors = [colors[i] for i in elbs.values()]\n",
    "    fsize = (min(12, 1 * len(self.nodes)),\n",
    "              min(12, 1 * len(self.nodes)))\n",
    "    plt.figure(3, figsize=fsize)\n",
    "    pos = nx.circular_layout(gnx)\n",
    "    # pos = nx.spring_layout(gnx)\n",
    "    nx.draw_networkx(gnx, pos, node_size = 200, node_color = vcolors, edge_color = ecolors, labels = vids)\n",
    "    #nx.draw_networkx_edge_labels(gnx, pos, edge_labels= elbs)\n",
    "    plt.autoscale(enable = True)\n",
    "    plt.show()\n"
   ]
  },
  {
   "cell_type": "code",
   "execution_count": null,
   "metadata": {},
   "outputs": [],
   "source": [
    "def plot(self, newEdges):\n",
    "    try:\n",
    "      import networkx as nx\n",
    "      import matplotlib.pyplot as plt\n",
    "      import matplotlib.colors as mcolors\n",
    "    except Exception as e:\n",
    "      print('Can not plot graph: {}'.format(e))\n",
    "      return\n",
    "    #cycle = list(mcolors.CSS4_COLORS.keys())\n",
    "    cycle = plt.rcParams['axes.prop_cycle'].by_key()['color']\n",
    "    gnx = nx.DiGraph()\n",
    "    vlbs = {}\n",
    "    vids = {}\n",
    "    \n",
    "    for i in range(len(self.nodes)):\n",
    "      gnx.add_node(i, label= self.nodes[i].label)\n",
    "      vlbs[i] = self.nodes[i].label\n",
    "      vids[i] = i\n",
    "    for e in self.edges:\n",
    "        gnx.add_edge(e[0], e[1], color = 'black')\n",
    "        \n",
    "    for e in newEdges:\n",
    "        gnx.add_edge(e[0], e[1], color = 'red')\n",
    "    \n",
    "    vcolors = [cycle[i%len(cycle)] for i in vlbs.values()]\n",
    "    ecolors = [c for (u, v, c) in gnx.edges.data('color')]\n",
    "    fsize = (min(12, 1 * len(self.nodes)),\n",
    "              min(12, 1 * len(self.nodes)))\n",
    "    plt.figure(3, figsize=fsize)\n",
    "    pos = nx.circular_layout(gnx)\n",
    "    # pos = nx.spring_layout(gnx)\n",
    "    nx.draw_networkx(gnx, pos, node_size = 200, node_color = vcolors, edge_color = ecolors, labels = vids)\n",
    "    #nx.draw_networkx_edge_labels(gnx, pos, edge_labels= elbs)\n",
    "    plt.autoscale(enable = True)\n",
    "    plt.show()\n"
   ]
  },
  {
   "cell_type": "code",
   "execution_count": null,
   "metadata": {},
   "outputs": [],
   "source": [
    "def getNMaxrule(confRuleList, n): # return index_list of n_max confs.\n",
    "    result = [None]*(n+1)\n",
    "    max_conf = [0.0]*(n+1)\n",
    "    for i in range(len(confRuleList)):\n",
    "        j = n\n",
    "        while j>0 and max_conf[j-1]<confRuleList[i]:\n",
    "            max_conf[j] = max_conf[j-1]\n",
    "            max_conf[j-1] = confRuleList[i]\n",
    "            result[j] = result[j-1]\n",
    "            result[j-1] = i\n",
    "            j -= 1\n",
    "    return result[:-1]"
   ]
  },
  {
   "cell_type": "code",
   "execution_count": null,
   "metadata": {},
   "outputs": [],
   "source": []
  },
  {
   "cell_type": "code",
   "execution_count": null,
   "metadata": {},
   "outputs": [],
   "source": [
    "a =[345,46,68,87,89,90,56,436,76808]\n",
    "b =[4,657,78,8008,76,78,476]\n",
    "x = getNMaxrule(a, 5)\n",
    "res = []\n",
    "for x_ in x:\n",
    "    res.append(a[x_])\n",
    "res"
   ]
  },
  {
   "cell_type": "code",
   "execution_count": null,
   "metadata": {},
   "outputs": [],
   "source": []
  },
  {
   "cell_type": "markdown",
   "metadata": {
    "colab_type": "text",
    "id": "CSyXPDO9ftkE"
   },
   "source": [
    "# Split K Fold"
   ]
  },
  {
   "cell_type": "code",
   "execution_count": null,
   "metadata": {
    "colab": {},
    "colab_type": "code",
    "executionInfo": {
     "elapsed": 32992,
     "status": "ok",
     "timestamp": 1595473792439,
     "user": {
      "displayName": "TUẤN NGUYỄN",
      "photoUrl": "",
      "userId": "09951512662861922656"
     },
     "user_tz": -420
    },
    "id": "uqeCm3AtfskD"
   },
   "outputs": [],
   "source": [
    "def device_data(profiles_filename, relationships_filename, num_partition):\n",
    "  def device_edges():\n",
    "    print('Relationships......................')\n",
    "    map_idx = {} #{file_index: set(vertex_idxs)}\n",
    "    edges_old = [] #edges[file_index] = [[v0,v1], ....]\n",
    "    for i in range(0, num_partition):\n",
    "      map_idx[i] = set()\n",
    "      edges_old.append([])\n",
    "\n",
    "    # des_filename = relationships_filename.split('.')[0]\n",
    "    with open(relationships_filename, 'r') as edges_f:\n",
    "      lines = edges_f.readlines()\n",
    "      max_num_items_per_partition = math.ceil(len(lines)/num_partition)\n",
    "\n",
    "      for i in range(0, num_partition-1):\n",
    "        edges = random.sample(lines, max_num_items_per_partition)\n",
    "\n",
    "        # des_f = open(des_filename+'_'+str(i)+'.txt', 'w')\n",
    "        for edge in edges:\n",
    "          lines.remove(edge)\n",
    "          data = edge.strip('\\n').split('\\t')\n",
    "          # des_f.write('{}\\t{}\\n'.format(data[0], data[1]))\n",
    "          edges_old[i].append([data[0], data[1]])\n",
    "          map_idx[i].add(data[0])\n",
    "          map_idx[i].add(data[1])\n",
    "        # des_f.close()\n",
    "\n",
    "      # des_f = open(des_filename+'_'+str(num_partition-1)+'.txt', 'w')\n",
    "      for line in lines:\n",
    "        data = line.strip('\\n').split('\\t')\n",
    "        # des_f.write('{}\\t{}\\n'.format(data[0], data[1]))\n",
    "        edges_old[num_partition-1].append([data[0], data[1]])\n",
    "        map_idx[num_partition-1].add(data[0])\n",
    "        map_idx[num_partition-1].add(data[1])\n",
    "      # des_f.close()\n",
    "\n",
    "    print(\"Done!\")\n",
    "    return map_idx, edges_old\n",
    "\n",
    "  def modified_vertex_idx(map_idx):\n",
    "    map_new = {} #{node_index: {file_idx: node_index_modified},....}\n",
    "    for key in map_idx:\n",
    "      idx = 0\n",
    "      for vertex in map_idx[key]:\n",
    "        if vertex not in map_new:\n",
    "          map_new[vertex] = {key: idx}\n",
    "        else:\n",
    "          map_new[vertex][key] = idx\n",
    "        idx += 1\n",
    "    return map_new\n",
    "\n",
    "  def device_vertex():\n",
    "    print('Profiles......................')\n",
    "\n",
    "    with open(profiles_filename, 'r') as f:\n",
    "      lines = f.readlines()\n",
    "      map_vertex_labels = {}\n",
    "      for line in lines:\n",
    "        data = line.strip('\\n').split('\\t')\n",
    "        map_vertex_labels[data[0]] = data[1]\n",
    "\n",
    "      map_idx, edges_old = device_edges() #{file_index: set(vertex_idxs)}\n",
    "      new_map = modified_vertex_idx(map_idx) #{node_index_old: {file_idx: node_index_modified},....}\n",
    "      # print(map_idx)\n",
    "      # print(edges_old)\n",
    "      # print(new_map)\n",
    "\n",
    "      # Split and update index profile\n",
    "      des_filename = profiles_filename.split('.')[0]\n",
    "      for i in range(0, num_partition):\n",
    "        des_f = open(des_filename+'_'+str(i)+'.txt', 'w')\n",
    "        vertex_set = set()\n",
    "        for vertex in map_idx[i]:\n",
    "          vertex_set.add((new_map[vertex][i], map_vertex_labels[vertex]))\n",
    "        vertex_set = sorted(vertex_set)\n",
    "        for vertex in vertex_set:\n",
    "          des_f.write('{}\\t{}\\n'.format(vertex[0], vertex[1]))\n",
    "        des_f.close()\n",
    "\n",
    "      # Update index edges in relations_file_splited\n",
    "      des_filename = relationships_filename.split('.')[0]\n",
    "      for i in range(0, num_partition):\n",
    "        des_f = open(des_filename+'_'+str(i)+'.txt', 'w')\n",
    "        edge_set = set()\n",
    "        for edge in edges_old[i]:\n",
    "          # print(edge)\n",
    "          edge_set.add((new_map[edge[0]][i], new_map[edge[1]][i]))\n",
    "        edge_set = sorted(edge_set)\n",
    "        for edge in edge_set:\n",
    "          des_f.write('{}\\t{}\\n'.format(edge[0], edge[1]))\n",
    "        des_f.close()\n",
    "\n",
    "    print(\"Done!\")\n",
    "\n",
    "  device_vertex()"
   ]
  },
  {
   "cell_type": "code",
   "execution_count": null,
   "metadata": {
    "colab": {},
    "colab_type": "code",
    "executionInfo": {
     "elapsed": 32979,
     "status": "ok",
     "timestamp": 1595473792440,
     "user": {
      "displayName": "TUẤN NGUYỄN",
      "photoUrl": "",
      "userId": "09951512662861922656"
     },
     "user_tz": -420
    },
    "id": "oqTBzTL0gSn6"
   },
   "outputs": [],
   "source": [
    "def device_k_fold(profiles_filename, relationships_filename, num_fold):\n",
    "  def device_edges_():\n",
    "    print('Relationships......................')\n",
    "    map_idx = {} #{file_index: set(vertex_idxs)}\n",
    "    edges_old = [] #edges[file_index] = [[v0,v1], ....]\n",
    "    for i in range(0, num_fold):\n",
    "      map_idx[i] = set()\n",
    "      edges_old.append([])\n",
    "\n",
    "    # des_filename = relationships_filename.split('.')[0]\n",
    "    with open(relationships_filename, 'r') as edges_f:\n",
    "      lines = edges_f.readlines()\n",
    "      max_num_items_per_partition = math.ceil(len(lines)/num_fold)\n",
    "\n",
    "      for i in range(0, num_fold-1):\n",
    "        edges = random.sample(lines, max_num_items_per_partition)\n",
    "\n",
    "        # des_f = open(des_filename+'_'+str(i)+'.txt', 'w')\n",
    "        for edge in edges:\n",
    "          lines.remove(edge)\n",
    "          data = edge.strip('\\n').split('\\t')\n",
    "          # des_f.write('{}\\t{}\\n'.format(data[0], data[1]))\n",
    "          edges_old[i].append([data[0], data[1]])\n",
    "          map_idx[i].add(data[0])\n",
    "          map_idx[i].add(data[1])\n",
    "        # des_f.close()\n",
    "\n",
    "      # des_f = open(des_filename+'_'+str(num_partition-1)+'.txt', 'w')\n",
    "      for line in lines:\n",
    "        data = line.strip('\\n').split('\\t')\n",
    "        # des_f.write('{}\\t{}\\n'.format(data[0], data[1]))\n",
    "        edges_old[num_fold-1].append([data[0], data[1]])\n",
    "        map_idx[num_fold-1].add(data[0])\n",
    "        map_idx[num_fold-1].add(data[1])\n",
    "      # des_f.close()\n",
    "\n",
    "    print(\"Done!\")\n",
    "    return map_idx, edges_old\n",
    "\n",
    "  def split_k_fold(map_idx, edges_old):\n",
    "    # map_idx: {file_index: set(vertex_idxs)}\n",
    "    # edges_old #edges[file_index] = [[v0,v1], ....]\n",
    "\n",
    "    fold_map = {} #{node_index: {fold_idx: node_index_modified},....}\n",
    "    map_idx_new = {} # map_idx_new: {fold_index: set(vertex_idxs)}\n",
    "    edges_old_new = []\n",
    "\n",
    "    for i in range(0, num_fold):\n",
    "      map_idx_new[i] = set()\n",
    "      edges_old_new.append([])\n",
    "\n",
    "    # map_idx_new\n",
    "    for i in range(0, num_fold):\n",
    "      for j in range(0, num_fold):\n",
    "        if i != j:\n",
    "          map_idx_new[i] = set(map_idx_new[i] | map_idx[j])\n",
    "    # edges_old_new\n",
    "    for i in range(0, num_fold):\n",
    "      for j in range(0, num_fold):\n",
    "        if i != j:\n",
    "          edges_old_new[i] = edges_old_new[i] + edges_old[j]\n",
    "\n",
    "    # map_idx_new: {fold_index: set(vertex_idxs)}\n",
    "    for fold in map_idx_new:\n",
    "      idx = 0\n",
    "      for vertex in map_idx_new[fold]:\n",
    "        if vertex not in fold_map:\n",
    "          fold_map[vertex] = {fold: idx}\n",
    "        else:\n",
    "          fold_map[vertex][fold] = idx\n",
    "        idx += 1\n",
    "\n",
    "#     print(fold_map)\n",
    "#     print(map_idx_new)\n",
    "#     print(edges_old_new)\n",
    "    return fold_map, map_idx_new, edges_old_new\n",
    "\n",
    "  def device_vertex_():\n",
    "    print('Profiles......................')\n",
    "\n",
    "    with open(profiles_filename, 'r') as f:\n",
    "      lines = f.readlines()\n",
    "      map_vertex_labels = {}\n",
    "      for line in lines:\n",
    "        data = line.strip('\\n').split('\\t')\n",
    "        map_vertex_labels[data[0]] = data[1]\n",
    "\n",
    "      map_idx, edges_old = device_edges_() #{file_index: set(vertex_idxs)}\n",
    "\n",
    "      edge = edges_old\n",
    "      new_map, map_idx, edges_old = split_k_fold(map_idx, edges_old) #{node_index_old: {file_idx: node_index_modified},....}\n",
    "\n",
    "      # Split and update index profile\n",
    "      des_filename = profiles_filename.split('.')[0]\n",
    "      for i in range(0, num_fold):\n",
    "        des_f = open(des_filename+'_'+str(i)+'_train.txt', 'w')\n",
    "        vertex_set = set()\n",
    "        for vertex in map_idx[i]:\n",
    "          vertex_set.add((new_map[vertex][i], map_vertex_labels[vertex]))\n",
    "        vertex_set = sorted(vertex_set)\n",
    "        for vertex in vertex_set:\n",
    "          des_f.write('{}\\t{}\\n'.format(vertex[0], vertex[1]))\n",
    "        des_f.close()\n",
    "\n",
    "      # Update index of edges in relationships_file_splited\n",
    "      des_filename = relationships_filename.split('.')[0]\n",
    "      for i in range(0, num_fold):\n",
    "        des_f = open(des_filename+'_'+str(i)+'_train.txt', 'w')\n",
    "        edge_set = set()\n",
    "        for edge in edges_old[i]:\n",
    "          # print(edge)\n",
    "          edge_set.add((new_map[edge[0]][i], new_map[edge[1]][i]))\n",
    "        edge_set = sorted(edge_set)\n",
    "        for edge in edge_set:\n",
    "          des_f.write('{}\\t{}\\n'.format(edge[0], edge[1]))\n",
    "        des_f.close()\n",
    "\n",
    "    print(\"Done!\")\n",
    "\n",
    "  device_vertex_()"
   ]
  },
  {
   "cell_type": "code",
   "execution_count": null,
   "metadata": {
    "colab": {
     "base_uri": "https://localhost:8080/",
     "height": 34
    },
    "colab_type": "code",
    "executionInfo": {
     "elapsed": 3493,
     "status": "ok",
     "timestamp": 1595474006720,
     "user": {
      "displayName": "TUẤN NGUYỄN",
      "photoUrl": "",
      "userId": "09951512662861922656"
     },
     "user_tz": -420
    },
    "id": "kXMVozIbqQcd",
    "outputId": "213ccd1a-6ee5-4021-c520-0f75c0e83611"
   },
   "outputs": [],
   "source": [
    "# device_data('kFoldData/test2/test2_profiles.txt', 'kFoldData/test2/test2_relationships.txt', 5)\n",
    "# device_k_fold('kFoldData/test2/test2_profiles.txt', 'kFoldData/test2/test2_relationships.txt', 5)"
   ]
  },
  {
   "cell_type": "code",
   "execution_count": null,
   "metadata": {
    "colab": {
     "base_uri": "https://localhost:8080/",
     "height": 323
    },
    "colab_type": "code",
    "executionInfo": {
     "elapsed": 19339,
     "status": "error",
     "timestamp": 1595473997811,
     "user": {
      "displayName": "TUẤN NGUYỄN",
      "photoUrl": "",
      "userId": "09951512662861922656"
     },
     "user_tz": -420
    },
    "id": "nO2I87Tzgedr",
    "outputId": "2ad5afd1-6276-447e-d9e8-7e6b9a92f568"
   },
   "outputs": [],
   "source": []
  },
  {
   "cell_type": "code",
   "execution_count": null,
   "metadata": {
    "colab": {},
    "colab_type": "code",
    "id": "TETYH7--pEP6"
   },
   "outputs": [],
   "source": []
  },
  {
   "cell_type": "markdown",
   "metadata": {
    "colab_type": "text",
    "id": "2WeYYu5_gyZ2"
   },
   "source": [
    "# Measure"
   ]
  },
  {
   "cell_type": "code",
   "execution_count": null,
   "metadata": {
    "colab": {},
    "colab_type": "code",
    "executionInfo": {
     "elapsed": 1240,
     "status": "ok",
     "timestamp": 1595471610154,
     "user": {
      "displayName": "TUẤN NGUYỄN",
      "photoUrl": "",
      "userId": "09951512662861922656"
     },
     "user_tz": -420
    },
    "id": "No1HGFx3gx-x"
   },
   "outputs": [],
   "source": [
    "def get_top_pair_node(G, measure_matrix, n):\n",
    "  set_matrix = set()\n",
    "  for i in range(len(measure_matrix)):\n",
    "    for j in range(len(measure_matrix)):\n",
    "      if measure_matrix[i][j] != 0.0 and measure_matrix[i][j]  != 1.0:\n",
    "        set_matrix.add((measure_matrix[i][j], i, j))\n",
    "        # set_matrix.add((i, j))\n",
    "        \n",
    "    result = set_matrix.copy()\n",
    "    for edge in G.edges:\n",
    "      v1, v2, l = edge\n",
    "      for ed in set_matrix:\n",
    "        w_, v1_, v2_ = ed\n",
    "        if v1==v1_ and v2==v2_:\n",
    "          result.remove(ed)\n",
    "  result = sorted(result, reverse=True)\n",
    "  return set(list(result)[:n])\n",
    "\n",
    "def Jaccard_measure(node1, node2):\n",
    "  if len(node1.to_nodes)==0 or len(node2.to_nodes)==0:\n",
    "    return 0\n",
    "  return len(set(node1.to_nodes).intersection(set(node2.to_nodes))) / len(list(set(node1.to_nodes) | set(node2.to_nodes)))\n",
    "\n",
    "def cal_jaccard_measure_matrix(G):\n",
    "  result_matrix = [[0.0 for x in range(len(G.nodes))] for y in range(len(G.nodes))]\n",
    "  for node1 in G.nodes:\n",
    "    for node2 in G.nodes:\n",
    "      result_matrix[node1.id][node2.id] = Jaccard_measure(node1, node2)\n",
    "  return result_matrix\n",
    "\n",
    "def Jaccard_measure_v1(node1, node2):\n",
    "  if len(node1.to_nodes)==0 or len(node2.to_nodes)==0:\n",
    "    return 0\n",
    "  return len(set(node1.to_nodes+node1.from_nodes).intersection(set(node2.to_nodes+node2.from_nodes))) / len(list(set(node1.to_nodes+node1.from_nodes) | set(node2.to_nodes+node2.from_nodes)))\n",
    "\n",
    "def cal_jaccard_measure_matrix_v1(G):\n",
    "  result_matrix = [[0.0 for x in range(len(G.nodes))] for y in range(len(G.nodes))]\n",
    "  for node1 in G.nodes:\n",
    "    for node2 in G.nodes:\n",
    "      result_matrix[node1.id][node2.id] = Jaccard_measure_v1(node1, node2)\n",
    "  return result_matrix\n",
    "\n",
    "def Simrank_measure(G, node1, node2, C):\n",
    "  if node1.id == node2.id:\n",
    "    return 1\n",
    "  if len(node1.to_nodes)==0 or len(node2.to_nodes)==0:\n",
    "    return 0\n",
    "  sum_sim = 0\n",
    "  for node1_ in G.nodes[node1.id].to_nodes:\n",
    "    for node2_ in G.nodes[node2.id].to_nodes:\n",
    "      sum_sim += Simrank_measure(G, G.nodes[node1_], G.nodes[node2_], C)\n",
    "  return C*(sum_sim/(len(node1.to_nodes)*len(node2.to_nodes)))\n",
    "\n",
    "def cal_simrank_measure_matrix(G, C):\n",
    "  result_matrix = [[0.0 for x in range(len(G.nodes))] for y in range(len(G.nodes))]\n",
    "  for node1 in G.nodes:\n",
    "    for node2 in G.nodes:\n",
    "      result_matrix[node1.id][node2.id] = Simrank_measure(G, node1, node2, C)\n",
    "  return result_matrix\n",
    "\n"
   ]
  },
  {
   "cell_type": "code",
   "execution_count": null,
   "metadata": {},
   "outputs": [],
   "source": [
    "def get_predict_all_pair_node(G, measure_matrix):\n",
    "  set_matrix = set()\n",
    "  for i in range(len(measure_matrix)):\n",
    "    for j in range(len(measure_matrix)):\n",
    "      if measure_matrix[i][j] != 0.0 and measure_matrix[i][j]  != 1.0:\n",
    "        set_matrix.add((measure_matrix[i][j], i, j))\n",
    "        \n",
    "    result = set_matrix.copy()\n",
    "    for edge in G.edges:\n",
    "      v1, v2, l = edge\n",
    "      for ed in set_matrix:\n",
    "        w_, v1_, v2_ = ed\n",
    "        if v1==v1_ and v2==v2_:\n",
    "          result.remove(ed)\n",
    "  result = sorted(result, reverse=True)\n",
    "  return set(list(result))\n",
    "\n",
    "def Simrank_measure(G, node1, node2, C, iter_, max_iter):\n",
    "    if node1.id == node2.id:\n",
    "        return 1\n",
    "    if len(node1.to_nodes)==0 or len(node2.to_nodes)==0:\n",
    "        return 0\n",
    "    sum_sim = 0\n",
    "    for node1_ in G.nodes[node1.id].to_nodes:\n",
    "        for node2_ in G.nodes[node2.id].to_nodes:\n",
    "            if iter_ <= max_iter:        \n",
    "                sum_sim += Simrank_measure(G, G.nodes[node1_], G.nodes[node2_], C, iter_+1, max_iter)\n",
    "    return C*(sum_sim/(len(node1.to_nodes)*len(node2.to_nodes)))\n",
    "\n",
    "def cal_simrank_measure_matrix(G, C, max_iter):\n",
    "  result_matrix = [[0.0 for x in range(len(G.nodes))] for y in range(len(G.nodes))]\n",
    "  count = 0\n",
    "  for node1 in G.nodes:\n",
    "    for node2 in G.nodes:\n",
    "      count += 1\n",
    "      if count%1000==0:\n",
    "            print(count)\n",
    "      result_matrix[node1.id][node2.id] = Simrank_measure(G, node1, node2, C, 0, max_iter)\n",
    "  return result_matrix\n",
    "\n",
    "def Simrank_measure_v1(G, node1, node2, C, iter_, max_iter, set_edge_checked):\n",
    "    if node1.id == node2.id:\n",
    "        return 1\n",
    "    if len(node1.to_nodes)==0 or len(node2.to_nodes)==0:\n",
    "        return 0\n",
    "    sum_sim = 0\n",
    "    for node1_ in G.nodes[node1.id].to_nodes+G.nodes[node1.id].from_nodes:\n",
    "        for node2_ in G.nodes[node2.id].to_nodes+G.nodes[node2.id].from_nodes:\n",
    "            if iter_ <= max_iter:\n",
    "                if (node1_, node2_) not in set_edge_checked:\n",
    "                    set_edge_checked.add((node1_, node2_))\n",
    "                    sum_sim += Simrank_measure_v1(G, G.nodes[node1_], G.nodes[node2_], C, iter_+1, max_iter, set_edge_checked)\n",
    "    return C*(sum_sim/(len(node1.to_nodes)*len(node2.to_nodes)))\n",
    "\n",
    "def cal_simrank_measure_matrix_v1(G, C, max_iter):\n",
    "  result_matrix = [[0.0 for x in range(len(G.nodes))] for y in range(len(G.nodes))]\n",
    "#   count = 0\n",
    "  for node1 in G.nodes:\n",
    "    for node2 in G.nodes:\n",
    "#       count += 1\n",
    "#       if count%1000==0:\n",
    "#             print(count)\n",
    "      result_matrix[node1.id][node2.id] = Simrank_measure_v1(G, node1, node2, C, 0, max_iter, set())\n",
    "  return result_matrix"
   ]
  },
  {
   "cell_type": "code",
   "execution_count": null,
   "metadata": {},
   "outputs": [],
   "source": [
    "def countEdgeGenInPredictedEdges(edgesGen, edgesPredicted):\n",
    "    # edgesGen: gen from rule. {(v1, v2, vlv),....}\n",
    "    # edgesPredicted: SimRank/Jaccard top-L predicted [(similarity, v1, v2),...]\n",
    "    set_predicted = set()\n",
    "    for edge in edgesPredicted:\n",
    "        _, v1, v2 = edge\n",
    "        set_predicted.add((v1, v2))\n",
    "        \n",
    "    result = 0\n",
    "    for edge in edgesGen:\n",
    "        v1, v2, vlv = edge\n",
    "        if (v1, v2) in set_predicted:\n",
    "            result += 1\n",
    "    return result"
   ]
  },
  {
   "cell_type": "code",
   "execution_count": 90,
   "metadata": {},
   "outputs": [],
   "source": [
    "def testPipeline(dataName, supp, cnf, minTopL, maxTopL, stepTopL, KFold, NTopRules):\n",
    "    result = {'jaccard': {}, 'simrank': {}}\n",
    "#     for i in range(0, KFold):\n",
    "#         result['jaccard'][i] = {}\n",
    "#         result['simrank'][i] = {}\n",
    "    for i in range(0, KFold):\n",
    "        print('----------------- Fold ', i, '--------------------')\n",
    "        test = MyGraph()\n",
    "        train = MyGraph()\n",
    "        test.loadData(dataName+'_profiles_'+str(i)+'.txt', dataName+'_relationships_'+str(i)+'.txt')\n",
    "        train.loadData(dataName+'_profiles_'+str(i)+'_train.txt', dataName+'_relationships_'+str(i)+'_train.txt')\n",
    "        \n",
    "        print('Minning FP.......')\n",
    "        gc = FPMinerOpt8(train, supp)\n",
    "        print('Gen Rules........')\n",
    "        rules, confs = ruleGen(gc, cnf)\n",
    "\n",
    "        if len(rules)==0:\n",
    "            print('Not rule!')\n",
    "            continue\n",
    "        top_rule_idx = getNMaxrule(confs, NTopRules)\n",
    "#         top_rules = []\n",
    "#         for i in top_rule_idx:\n",
    "#             top_rules.append([rules[i], confs[i]])\n",
    "        \n",
    "        ttt = genNewEdges(rules[top_rule_idx[0]], test) # Rule 0\n",
    "        \n",
    "        print('Cal simrank_matrix........')\n",
    "        simrank_matrix = cal_simrank_measure_matrix_v1(test, 0.8, 5)\n",
    "        predict_simrank = get_predict_all_pair_node(test, simrank_matrix)\n",
    "        predict_simrank = sorted(predict_simrank)\n",
    "\n",
    "        print('Cal jaccard_matrix........')\n",
    "        jaccard_matrix = cal_jaccard_measure_matrix_v1(test)\n",
    "        predict_jaccard = get_predict_all_pair_node(test, jaccard_matrix)\n",
    "        predict_jaccard = sorted(predict_jaccard)\n",
    "        \n",
    "        topL = minTopL\n",
    "        while topL <= maxTopL:\n",
    "            if topL not in result['jaccard']:\n",
    "                result['jaccard'][topL] = {}\n",
    "                result['simrank'][topL] = {}\n",
    "            print('TopL = ', topL)\n",
    "            Lrs = countEdgeGenInPredictedEdges(ttt, predict_simrank[-topL:])\n",
    "            Lrj = countEdgeGenInPredictedEdges(ttt, predict_jaccard[-topL:])\n",
    "            print('Jaccard: ', Lrj/topL, ' SimRank: ', Lrs/topL)\n",
    "            result['jaccard'][topL][i] = Lrj/topL\n",
    "            result['simrank'][topL][i] = Lrs/topL\n",
    "            topL += stepTopL\n",
    "    \n",
    "    topL = minTopL\n",
    "    while topL <= maxTopL:\n",
    "        sum_sim = 0.0\n",
    "        sum_jac = 0.0\n",
    "        for i in range(0, KFold):\n",
    "            sum_jac += result['jaccard'][topL][i]\n",
    "            sum_sim += result['simrank'][topL][i]\n",
    "        result['jaccard'][topL]['Mean'] = sum_jac/KFold\n",
    "        result['simrank'][topL]['Mean'] = sum_sim/KFold\n",
    "        topL += stepTopL\n",
    "    \n",
    "    with open(dataName+'_result_acc.json', 'w') as f:\n",
    "        json.dump(result, f)\n",
    "    \n",
    "    return result"
   ]
  },
  {
   "cell_type": "code",
   "execution_count": null,
   "metadata": {},
   "outputs": [
    {
     "name": "stdout",
     "output_type": "stream",
     "text": [
      "----------------- Fold  0 --------------------\n",
      "Minning FP.......\n",
      "2646 2316\n",
      "Gen Rules........\n",
      "Cal simrank_matrix........\n",
      "Cal jaccard_matrix........\n",
      "TopL =  50\n",
      "Jaccard:  0.02  SimRank:  0.14\n",
      "TopL =  100\n",
      "Jaccard:  0.07  SimRank:  0.09\n",
      "TopL =  150\n",
      "Jaccard:  0.09333333333333334  SimRank:  0.08666666666666667\n",
      "TopL =  200\n",
      "Jaccard:  0.11  SimRank:  0.075\n",
      "TopL =  250\n",
      "Jaccard:  0.144  SimRank:  0.076\n",
      "TopL =  300\n",
      "Jaccard:  0.15333333333333332  SimRank:  0.07333333333333333\n",
      "TopL =  350\n",
      "Jaccard:  0.2057142857142857  SimRank:  0.10571428571428572\n",
      "TopL =  400\n",
      "Jaccard:  0.22  SimRank:  0.1425\n",
      "TopL =  450\n",
      "Jaccard:  0.24888888888888888  SimRank:  0.17333333333333334\n",
      "TopL =  500\n",
      "Jaccard:  0.276  SimRank:  0.186\n",
      "----------------- Fold  1 --------------------\n",
      "Minning FP.......\n",
      "2614 2296\n",
      "Gen Rules........\n",
      "Cal simrank_matrix........\n",
      "Cal jaccard_matrix........\n",
      "TopL =  50\n",
      "Jaccard:  0.02  SimRank:  0.1\n",
      "TopL =  100\n",
      "Jaccard:  0.13  SimRank:  0.06\n",
      "TopL =  150\n",
      "Jaccard:  0.14666666666666667  SimRank:  0.12666666666666668\n",
      "TopL =  200\n",
      "Jaccard:  0.16  SimRank:  0.125\n",
      "TopL =  250\n",
      "Jaccard:  0.152  SimRank:  0.104\n",
      "TopL =  300\n",
      "Jaccard:  0.14333333333333334  SimRank:  0.10333333333333333\n",
      "TopL =  350\n",
      "Jaccard:  0.1742857142857143  SimRank:  0.10285714285714286\n",
      "TopL =  400\n",
      "Jaccard:  0.2075  SimRank:  0.12\n",
      "TopL =  450\n",
      "Jaccard:  0.24666666666666667  SimRank:  0.15555555555555556\n",
      "TopL =  500\n",
      "Jaccard:  0.222  SimRank:  0.186\n",
      "----------------- Fold  2 --------------------\n",
      "Minning FP.......\n",
      "2640 2298\n",
      "Gen Rules........\n",
      "Cal simrank_matrix........\n",
      "Cal jaccard_matrix........\n"
     ]
    }
   ],
   "source": [
    "# testPipeline('kFoldData/citeseer/citeseer', 100, 0.9, 100, 500, 50, 5, 5)\n",
    "data_pool = ['kFoldData/citeseer/citeseer', 'kFoldData/cora/cora', 'kFoldData/test1/test1', 'kFoldData/test2/test2'] \n",
    "sup_pool = [100, 150, 273, 103]\n",
    "conf = 0.9\n",
    "minTopL = 50\n",
    "maxTopL = 500\n",
    "stepTopL = 50\n",
    "kFold = 5\n",
    "nTopRule = 5\n",
    "\n",
    "result = testPipeline(data_pool[0], sup_pool[0], conf, minTopL, maxTopL, stepTopL, kFold, nTopRule)"
   ]
  },
  {
   "cell_type": "markdown",
   "metadata": {},
   "source": [
    "#  dddd"
   ]
  },
  {
   "cell_type": "code",
   "execution_count": null,
   "metadata": {
    "scrolled": false
   },
   "outputs": [],
   "source": [
    "# test\n",
    "MODIFY_INDEX = 0\n",
    "example = MyGraph()\n",
    "example.loadData('Data_demo/example_profiles.txt', 'Data_demo/example_relationships.txt')\n",
    "# example.plot()"
   ]
  },
  {
   "cell_type": "code",
   "execution_count": null,
   "metadata": {},
   "outputs": [],
   "source": [
    "# jaccard_matrix = cal_jaccard_measure_matrix(example)\n",
    "# top_jaccard = get_top_pair_node(example, jaccard_matrix, 20)\n",
    "# top_jaccard"
   ]
  },
  {
   "cell_type": "code",
   "execution_count": null,
   "metadata": {},
   "outputs": [],
   "source": [
    "# ## Check number of edge in top_edges is exist in example \n",
    "# top_edges_jaccard_not_in_graph = top_jaccard.copy()\n",
    "# count = 0\n",
    "# for edge in example.edges:\n",
    "#     v1, v2, l = edge\n",
    "#     for ed in top_jaccard:\n",
    "#         w, v1_, v2_ = ed\n",
    "# #         print(edge, ed)\n",
    "#         if v1==v1_ and v2==v2_:\n",
    "#             count += 1\n",
    "#             top_edges_jaccard_not_in_graph.remove(ed)\n",
    "# print(count, len(top_edges_jaccard_not_in_graph))\n",
    "\n",
    "# def get_top_new_edges(G, )"
   ]
  },
  {
   "cell_type": "code",
   "execution_count": null,
   "metadata": {
    "scrolled": false
   },
   "outputs": [],
   "source": [
    "def get_predict_all_pair_node(G, measure_matrix):\n",
    "  set_matrix = set()\n",
    "  for i in range(len(measure_matrix)):\n",
    "    for j in range(len(measure_matrix)):\n",
    "      if measure_matrix[i][j] != 0.0 and measure_matrix[i][j]  != 1.0:\n",
    "        set_matrix.add((jaccard_matrix[i][j], i, j))\n",
    "        \n",
    "    result = set_matrix.copy()\n",
    "    for edge in G.edges:\n",
    "      v1, v2, l = edge\n",
    "      for ed in set_matrix:\n",
    "        w_, v1_, v2_ = ed\n",
    "        if v1==v1_ and v2==v2_:\n",
    "          result.remove(ed)\n",
    "  result = sorted(result, reverse=True)\n",
    "  return set(list(result))\n",
    "\n",
    "def Simrank_measure(G, node1, node2, C, iter_, max_iter):\n",
    "    if node1.id == node2.id:\n",
    "        return 1\n",
    "    if len(node1.to_nodes)==0 or len(node2.to_nodes)==0:\n",
    "        return 0\n",
    "    sum_sim = 0\n",
    "    for node1_ in G.nodes[node1.id].to_nodes:\n",
    "        for node2_ in G.nodes[node2.id].to_nodes:\n",
    "            if iter_ <= max_iter:        \n",
    "                sum_sim += Simrank_measure(G, G.nodes[node1_], G.nodes[node2_], C, iter_+1, max_iter)\n",
    "    return C*(sum_sim/(len(node1.to_nodes)*len(node2.to_nodes)))\n",
    "\n",
    "def cal_simrank_measure_matrix(G, C, max_iter):\n",
    "  result_matrix = [[0.0 for x in range(len(G.nodes))] for y in range(len(G.nodes))]\n",
    "  count = 0\n",
    "  for node1 in G.nodes:\n",
    "    for node2 in G.nodes:\n",
    "      count += 1\n",
    "      if count%1000==0:\n",
    "            print(count)\n",
    "      result_matrix[node1.id][node2.id] = Simrank_measure(G, node1, node2, C, 0, max_iter)\n",
    "  return result_matrix\n",
    "\n",
    "def Simrank_measure_v1(G, node1, node2, C, iter_, max_iter, set_edge_checked):\n",
    "    if node1.id == node2.id:\n",
    "        return 1\n",
    "    if len(node1.to_nodes)==0 or len(node2.to_nodes)==0:\n",
    "        return 0\n",
    "    sum_sim = 0\n",
    "    for node1_ in G.nodes[node1.id].to_nodes+G.nodes[node1.id].from_nodes:\n",
    "        for node2_ in G.nodes[node2.id].to_nodes+G.nodes[node2.id].from_nodes:\n",
    "            if iter_ <= max_iter:\n",
    "                if (node1_, node2_) not in set_edge_checked:\n",
    "                    set_edge_checked.add((node1_, node2_))\n",
    "                    sum_sim += Simrank_measure_v1(G, G.nodes[node1_], G.nodes[node2_], C, iter_+1, max_iter, set_edge_checked)\n",
    "    return C*(sum_sim/(len(node1.to_nodes)*len(node2.to_nodes)))\n",
    "\n",
    "def cal_simrank_measure_matrix_v1(G, C, max_iter):\n",
    "  result_matrix = [[0.0 for x in range(len(G.nodes))] for y in range(len(G.nodes))]\n",
    "#   count = 0\n",
    "  for node1 in G.nodes:\n",
    "    for node2 in G.nodes:\n",
    "#       count += 1\n",
    "#       if count%1000==0:\n",
    "#             print(count)\n",
    "      result_matrix[node1.id][node2.id] = Simrank_measure_v1(G, node1, node2, C, 0, max_iter, set())\n",
    "  return result_matrix\n",
    "\n",
    "# mm = Simrank_measure(example, example.nodes[0], example.nodes[2], 0.8, 0, 5)\n",
    "# print(mm)"
   ]
  },
  {
   "cell_type": "code",
   "execution_count": null,
   "metadata": {
    "scrolled": false
   },
   "outputs": [],
   "source": [
    "# ss = Simrank_measure(test, test.nodes[512], test.nodes[3], 0.8, 0, 5)\n",
    "# ss"
   ]
  },
  {
   "cell_type": "code",
   "execution_count": null,
   "metadata": {},
   "outputs": [],
   "source": [
    "fc = FPMinerOpt8(train, 100)\n",
    "rules, confs = ruleGen(fc, 0.9)"
   ]
  },
  {
   "cell_type": "code",
   "execution_count": null,
   "metadata": {},
   "outputs": [],
   "source": [
    "top_rule_idx = getNMaxrule(confs, 5)\n",
    "top_rules = []\n",
    "for i in top_rule_idx:\n",
    "    top_rules.append([rules[i], confs[i]])\n",
    "top_rules"
   ]
  },
  {
   "cell_type": "code",
   "execution_count": null,
   "metadata": {},
   "outputs": [],
   "source": [
    "# start = time.time()\n",
    "# res = set()\n",
    "# for i in rgTest2:\n",
    "#     ttt = genNewEdges(i, test2)\n",
    "#     res.update(ttt)\n",
    "# print(time.time()-start)\n",
    "\n",
    "\n",
    "ttt = genNewEdges(top_rules[0][0], test)"
   ]
  },
  {
   "cell_type": "code",
   "execution_count": null,
   "metadata": {},
   "outputs": [],
   "source": [
    "len(ttt)"
   ]
  },
  {
   "cell_type": "code",
   "execution_count": null,
   "metadata": {},
   "outputs": [],
   "source": [
    "res = set()\n",
    "for i in ttt:\n",
    "    v1, v2, vlv = i\n",
    "    if (v1, v2)not in res:\n",
    "        res.add((v1, v2))\n",
    "len(res)"
   ]
  },
  {
   "cell_type": "code",
   "execution_count": null,
   "metadata": {
    "scrolled": true
   },
   "outputs": [],
   "source": [
    "simrank_matrix = cal_simrank_measure_matrix_v1(test, 0.8, 5)\n",
    "predict_simrank = get_predict_all_pair_node(test, simrank_matrix)\n",
    "predict_simrank = sorted(predict_simrank)\n",
    "predict_simrank"
   ]
  },
  {
   "cell_type": "code",
   "execution_count": null,
   "metadata": {},
   "outputs": [],
   "source": [
    "Lrs = countEdgeGenInPredictedEdges(ttt, predict_simrank[-300:])\n",
    "Lrs / 300"
   ]
  },
  {
   "cell_type": "code",
   "execution_count": null,
   "metadata": {
    "scrolled": true
   },
   "outputs": [],
   "source": [
    "jaccard_matrix = cal_jaccard_measure_matrix_v1(test)\n",
    "predict_jaccard = get_predict_all_pair_node(test, jaccard_matrix)\n",
    "predict_jaccard = sorted(predict_jaccard)\n",
    "list(predict_jaccard)[-100:]"
   ]
  },
  {
   "cell_type": "code",
   "execution_count": null,
   "metadata": {},
   "outputs": [],
   "source": [
    "Lrj = countEdgeGenInPredictedEdges(ttt, predict_jaccard[-300:])\n",
    "Lrj / 300"
   ]
  },
  {
   "cell_type": "code",
   "execution_count": 83,
   "metadata": {},
   "outputs": [],
   "source": [
    "# train\n",
    "MODIFY_INDEX = 0\n",
    "train = MyGraph()\n",
    "train.loadData('kFoldData/citeseer/citeseer_profiles_0_train.txt', 'kFoldData/citeseer/citeseer_relationships_0_train.txt')\n",
    "\n",
    "# test\n",
    "MODIFY_INDEX = 0\n",
    "test = MyGraph()\n",
    "test.loadData('kFoldData/citeseer/citeseer_profiles_0.txt', 'kFoldData/citeseer/citeseer_relationships_0.txt')"
   ]
  },
  {
   "cell_type": "code",
   "execution_count": 85,
   "metadata": {
    "scrolled": false
   },
   "outputs": [
    {
     "name": "stdout",
     "output_type": "stream",
     "text": [
      "2646 23162646 2316\n",
      "\n",
      "2646 26462316 \n",
      "2316\n"
     ]
    }
   ],
   "source": [
    "# fp = FPMinerOpt8(train, 100)\n",
    "# rules = ruleGen(fp, 0.6)\n",
    "\n",
    "processes = []\n",
    "for i in range(0,4):\n",
    "    p = multiprocessing.Process(target=FPMinerOpt8, args=(train, 100))\n",
    "    processes.append(p)\n",
    "    p.start()\n",
    "\n",
    "for process in processes:\n",
    "    process.join()"
   ]
  },
  {
   "cell_type": "code",
   "execution_count": null,
   "metadata": {},
   "outputs": [],
   "source": [
    "rules"
   ]
  },
  {
   "cell_type": "code",
   "execution_count": null,
   "metadata": {
    "colab": {},
    "colab_type": "code",
    "id": "qYW9pwh8g_9G",
    "scrolled": true
   },
   "outputs": [],
   "source": [
    "jaccard_matrix = cal_jaccard_measure_matrix(test)\n",
    "top_jaccard = get_top_pair_node(test, jaccard_matrix, 50)\n",
    "# top_jaccard"
   ]
  },
  {
   "cell_type": "code",
   "execution_count": null,
   "metadata": {},
   "outputs": [],
   "source": [
    "simrank_matrix = cal_simrank_measure_matrix(test, 0.8, 5)\n",
    "top_simrank = get_top_pair_node(test, simrank_matrix, 50)\n",
    "# top_simrank"
   ]
  },
  {
   "cell_type": "code",
   "execution_count": null,
   "metadata": {},
   "outputs": [],
   "source": [
    "edges_predicted = genNewEdges(rules, test)"
   ]
  },
  {
   "cell_type": "code",
   "execution_count": null,
   "metadata": {},
   "outputs": [],
   "source": []
  },
  {
   "cell_type": "markdown",
   "metadata": {
    "colab_type": "text",
    "id": "lbdE6U1Yb-Xi"
   },
   "source": [
    "# TEST LOAD_DATA\n",
    "\n",
    "\n",
    "\n"
   ]
  },
  {
   "cell_type": "code",
   "execution_count": null,
   "metadata": {
    "colab": {},
    "colab_type": "code",
    "id": "etnmp-VVoRx1"
   },
   "outputs": [],
   "source": [
    "MODIFY_INDEX = 0\n",
    "mygen210test = MyGraph()\n",
    "mygen210test.loadData('DataGeneration/profiles_v210_test.txt', 'DataGeneration/relationships_v210_test.txt')\n",
    "# mygen2000.plot()"
   ]
  },
  {
   "cell_type": "code",
   "execution_count": null,
   "metadata": {
    "colab": {},
    "colab_type": "code",
    "id": "t3M0DYS5PSDE"
   },
   "outputs": [],
   "source": [
    "MODIFY_INDEX = 0\n",
    "mygen2000 = MyGraph()\n",
    "mygen2000.loadData('DataGeneration/profiles_v2000_e100000.txt', 'DataGeneration/relationships_v2000_e100000.txt')\n",
    "# mygen2000.plot()"
   ]
  },
  {
   "cell_type": "code",
   "execution_count": null,
   "metadata": {
    "colab": {},
    "colab_type": "code",
    "id": "daewDWK2PS-l"
   },
   "outputs": [],
   "source": [
    "MODIFY_INDEX = 0\n",
    "mygen500 = MyGraph()\n",
    "mygen500.loadData(\"DataGeneration/profiles_v500_e25000.txt\", \"DataGeneration/relationships_v500_e25000.txt\")\n",
    "# mygen500.plot()"
   ]
  },
  {
   "cell_type": "code",
   "execution_count": null,
   "metadata": {
    "colab": {},
    "colab_type": "code",
    "id": "WNecBCMfyyFP"
   },
   "outputs": [],
   "source": [
    "MODIFY_INDEX = 0\n",
    "cora = MyGraph()\n",
    "cora.loadData(\"RealDataset/cora_ok/profiles.txt\", \"RealDataset/cora_ok/relationships.txt\")\n",
    "# mygen500.plot()"
   ]
  },
  {
   "cell_type": "code",
   "execution_count": null,
   "metadata": {
    "colab": {
     "base_uri": "https://localhost:8080/",
     "height": 683
    },
    "colab_type": "code",
    "executionInfo": {
     "elapsed": 3168,
     "status": "ok",
     "timestamp": 1595434027090,
     "user": {
      "displayName": "Tình Nguyễn",
      "photoUrl": "https://lh3.googleusercontent.com/a-/AOh14GjrLz4TzCzSDq0nRy1qq3AlNVMOpgX33NP4LXIeUA=s64",
      "userId": "04403922125072607921"
     },
     "user_tz": -420
    },
    "id": "uQ6vQnWEWHqw",
    "outputId": "17f1a905-46f6-4b6b-a332-1343c12f0b71"
   },
   "outputs": [],
   "source": [
    "MODIFY_INDEX = 0\n",
    "example = MyGraph()\n",
    "example.loadData('Data_demo/example_profiles.txt', 'Data_demo/example_relationships.txt')\n",
    "example.plot()"
   ]
  },
  {
   "cell_type": "code",
   "execution_count": null,
   "metadata": {
    "colab": {},
    "colab_type": "code",
    "id": "MTL-qzWMOCfq"
   },
   "outputs": [],
   "source": [
    "MODIFY_INDEX = 0\n",
    "mico = MyGraph()\n",
    "mico.loadData('Data_demo/mico_profiles.txt', 'Data_demo/mico_relationships.txt')\n",
    "## mico.plot()"
   ]
  },
  {
   "cell_type": "code",
   "execution_count": null,
   "metadata": {
    "colab": {
     "base_uri": "https://localhost:8080/",
     "height": 1000
    },
    "colab_type": "code",
    "executionInfo": {
     "elapsed": 8499,
     "status": "ok",
     "timestamp": 1595434037261,
     "user": {
      "displayName": "Tình Nguyễn",
      "photoUrl": "https://lh3.googleusercontent.com/a-/AOh14GjrLz4TzCzSDq0nRy1qq3AlNVMOpgX33NP4LXIeUA=s64",
      "userId": "04403922125072607921"
     },
     "user_tz": -420
    },
    "id": "rq-QwpNP4Nla",
    "outputId": "a57527cc-ddae-4b92-bf36-de17f71ce1d6"
   },
   "outputs": [],
   "source": [
    "MODIFY_INDEX = 0\n",
    "test1 = MyGraph()\n",
    "test1.loadData('Data_demo/test1_profiles.txt', 'Data_demo/test1_relationships.txt')\n",
    "test1.display()\n",
    "test1.plot()"
   ]
  },
  {
   "cell_type": "code",
   "execution_count": null,
   "metadata": {
    "colab": {},
    "colab_type": "code",
    "id": "A2Po4LLM4qAY"
   },
   "outputs": [],
   "source": [
    "MODIFY_INDEX = 0\n",
    "citeseer = MyGraph()\n",
    "citeseer.loadData('Data_demo/citeseer_profiles.txt', 'Data_demo/citeseer_relationships.txt')\n",
    "# citeseer.plot()"
   ]
  },
  {
   "cell_type": "code",
   "execution_count": null,
   "metadata": {
    "colab": {},
    "colab_type": "code",
    "id": "A73-H67zFUhK"
   },
   "outputs": [],
   "source": [
    "MODIFY_INDEX = 0\n",
    "citeseer0 = MyGraph()\n",
    "citeseer0.loadData('Data_demo/citeseer_profiles_0.txt', 'Data_demo/citeseer_relationships_0.txt')\n",
    "# citeseer.plot()"
   ]
  },
  {
   "cell_type": "code",
   "execution_count": null,
   "metadata": {
    "colab": {
     "base_uri": "https://localhost:8080/",
     "height": 683
    },
    "colab_type": "code",
    "executionInfo": {
     "elapsed": 1849,
     "status": "ok",
     "timestamp": 1595434042985,
     "user": {
      "displayName": "Tình Nguyễn",
      "photoUrl": "https://lh3.googleusercontent.com/a-/AOh14GjrLz4TzCzSDq0nRy1qq3AlNVMOpgX33NP4LXIeUA=s64",
      "userId": "04403922125072607921"
     },
     "user_tz": -420
    },
    "id": "pv_KQr2y8wNb",
    "outputId": "d45aa155-40f6-4b76-930e-de8a52c4433a"
   },
   "outputs": [],
   "source": [
    "MODIFY_INDEX = 0\n",
    "gr = MyGraph()\n",
    "gr.loadData('Data_demo/gr_profile.txt', 'Data_demo/gr_relationship.txt')\n",
    "gr.plot()"
   ]
  },
  {
   "cell_type": "code",
   "execution_count": null,
   "metadata": {
    "colab": {
     "base_uri": "https://localhost:8080/",
     "height": 357
    },
    "colab_type": "code",
    "executionInfo": {
     "elapsed": 1346,
     "status": "ok",
     "timestamp": 1595434045913,
     "user": {
      "displayName": "Tình Nguyễn",
      "photoUrl": "https://lh3.googleusercontent.com/a-/AOh14GjrLz4TzCzSDq0nRy1qq3AlNVMOpgX33NP4LXIeUA=s64",
      "userId": "04403922125072607921"
     },
     "user_tz": -420
    },
    "id": "l9AYAcuNYZ5W",
    "outputId": "79a19e09-cd32-437c-9ca0-6cb8ad8c3511"
   },
   "outputs": [],
   "source": [
    "MODIFY_INDEX = 0\n",
    "demo = MyGraph()\n",
    "demo.loadData('Data_demo/profile.txt', 'Data_demo/relationship.txt')\n",
    "demo.plot()"
   ]
  },
  {
   "cell_type": "code",
   "execution_count": null,
   "metadata": {
    "colab": {
     "base_uri": "https://localhost:8080/",
     "height": 683
    },
    "colab_type": "code",
    "executionInfo": {
     "elapsed": 1277,
     "status": "ok",
     "timestamp": 1595434048278,
     "user": {
      "displayName": "Tình Nguyễn",
      "photoUrl": "https://lh3.googleusercontent.com/a-/AOh14GjrLz4TzCzSDq0nRy1qq3AlNVMOpgX33NP4LXIeUA=s64",
      "userId": "04403922125072607921"
     },
     "user_tz": -420
    },
    "id": "_VfhS_czlQ4W",
    "outputId": "d81a90e3-9fa9-4530-eaf5-5adcc8d2d997"
   },
   "outputs": [],
   "source": [
    "MODIFY_INDEX = 0\n",
    "test2 = MyGraph()\n",
    "test2.loadData('Data_demo/test2_profiles.txt', 'Data_demo/test2_relationships.txt')\n",
    "test2.plot()"
   ]
  },
  {
   "cell_type": "markdown",
   "metadata": {
    "colab_type": "text",
    "id": "w-xVmqcaH00L"
   },
   "source": [
    "# TEST GRAMI"
   ]
  },
  {
   "cell_type": "code",
   "execution_count": null,
   "metadata": {
    "colab": {
     "base_uri": "https://localhost:8080/",
     "height": 34
    },
    "colab_type": "code",
    "executionInfo": {
     "elapsed": 3080,
     "status": "ok",
     "timestamp": 1595474124149,
     "user": {
      "displayName": "TUẤN NGUYỄN",
      "photoUrl": "",
      "userId": "09951512662861922656"
     },
     "user_tz": -420
    },
    "id": "jv-ZlUgebI9f",
    "outputId": "85f9e3d3-91fc-43d8-82f5-c4e0fe83c1e4"
   },
   "outputs": [],
   "source": [
    "% cd GraMi\n",
    "! chmod +x grami"
   ]
  },
  {
   "cell_type": "code",
   "execution_count": null,
   "metadata": {
    "colab": {},
    "colab_type": "code",
    "id": "o1lg72xqbH4G"
   },
   "outputs": [],
   "source": [
    "! ./grami -f cora.lg -s 150 -t 1 -p 1"
   ]
  },
  {
   "cell_type": "code",
   "execution_count": null,
   "metadata": {
    "colab": {},
    "colab_type": "code",
    "id": "yfKdhebhCbSA"
   },
   "outputs": [],
   "source": [
    "cat Output.txt"
   ]
  },
  {
   "cell_type": "code",
   "execution_count": null,
   "metadata": {
    "colab": {},
    "colab_type": "code",
    "id": "HaO1XzzACB0M"
   },
   "outputs": [],
   "source": [
    "! ./grami -f example.lg -s 2 -t 1 -p 1"
   ]
  },
  {
   "cell_type": "code",
   "execution_count": null,
   "metadata": {
    "colab": {},
    "colab_type": "code",
    "id": "Vv5SMKusrnAq"
   },
   "outputs": [],
   "source": [
    "! cat Data_demo/example_profiles.txt"
   ]
  },
  {
   "cell_type": "markdown",
   "metadata": {
    "colab_type": "text",
    "id": "sQ5jEbjHg1JI"
   },
   "source": [
    "# TEST\n"
   ]
  },
  {
   "cell_type": "code",
   "execution_count": null,
   "metadata": {
    "colab": {
     "base_uri": "https://localhost:8080/",
     "height": 683
    },
    "colab_type": "code",
    "executionInfo": {
     "elapsed": 1594,
     "status": "ok",
     "timestamp": 1595443762673,
     "user": {
      "displayName": "Tình Nguyễn",
      "photoUrl": "https://lh3.googleusercontent.com/a-/AOh14GjrLz4TzCzSDq0nRy1qq3AlNVMOpgX33NP4LXIeUA=s64",
      "userId": "04403922125072607921"
     },
     "user_tz": -420
    },
    "id": "2jmEvczYl3zP",
    "outputId": "35e0e81f-0ecb-4d78-ba0a-81ce27f7c071"
   },
   "outputs": [],
   "source": [
    "plot(example, ttt)"
   ]
  },
  {
   "cell_type": "code",
   "execution_count": null,
   "metadata": {
    "colab": {
     "base_uri": "https://localhost:8080/",
     "height": 272
    },
    "colab_type": "code",
    "executionInfo": {
     "elapsed": 1130,
     "status": "ok",
     "timestamp": 1595443939238,
     "user": {
      "displayName": "Tình Nguyễn",
      "photoUrl": "https://lh3.googleusercontent.com/a-/AOh14GjrLz4TzCzSDq0nRy1qq3AlNVMOpgX33NP4LXIeUA=s64",
      "userId": "04403922125072607921"
     },
     "user_tz": -420
    },
    "id": "_fV_-iT3obZ_",
    "outputId": "e985599d-37a3-4e31-f283-bb0f34eed5e9"
   },
   "outputs": [],
   "source": [
    "example.nodes"
   ]
  },
  {
   "cell_type": "code",
   "execution_count": null,
   "metadata": {
    "colab": {
     "base_uri": "https://localhost:8080/",
     "height": 459
    },
    "colab_type": "code",
    "executionInfo": {
     "elapsed": 917,
     "status": "ok",
     "timestamp": 1595444342919,
     "user": {
      "displayName": "Tình Nguyễn",
      "photoUrl": "https://lh3.googleusercontent.com/a-/AOh14GjrLz4TzCzSDq0nRy1qq3AlNVMOpgX33NP4LXIeUA=s64",
      "userId": "04403922125072607921"
     },
     "user_tz": -420
    },
    "id": "d07UVfNb4ryD",
    "outputId": "3e6ccbd7-7232-4523-f18a-c0d94c9327cc"
   },
   "outputs": [],
   "source": [
    "for i in resEx.getAllDFSCode():\n",
    "  if (len(i)) == 7:\n",
    "    print(i)\n",
    "  if len(i) == 5:\n",
    "    print (i)"
   ]
  },
  {
   "cell_type": "code",
   "execution_count": null,
   "metadata": {
    "colab": {},
    "colab_type": "code",
    "id": "Wowo4mwdo7yK"
   },
   "outputs": [],
   "source": [
    "temp  = []\n",
    "for i in rrgEx:\n",
    "  if len(i[0]) == 5 and len(i[1]) == 2:\n",
    "    temp.append(i)"
   ]
  },
  {
   "cell_type": "code",
   "execution_count": null,
   "metadata": {
    "colab": {
     "base_uri": "https://localhost:8080/",
     "height": 221
    },
    "colab_type": "code",
    "executionInfo": {
     "elapsed": 916,
     "status": "ok",
     "timestamp": 1595443670656,
     "user": {
      "displayName": "Tình Nguyễn",
      "photoUrl": "https://lh3.googleusercontent.com/a-/AOh14GjrLz4TzCzSDq0nRy1qq3AlNVMOpgX33NP4LXIeUA=s64",
      "userId": "04403922125072607921"
     },
     "user_tz": -420
    },
    "id": "Wq9OePxo2mTW",
    "outputId": "8957cf62-1b5e-424d-e487-fd0e29d35e3c"
   },
   "outputs": [],
   "source": [
    "temp"
   ]
  },
  {
   "cell_type": "code",
   "execution_count": null,
   "metadata": {
    "colab": {
     "base_uri": "https://localhost:8080/",
     "height": 34
    },
    "colab_type": "code",
    "executionInfo": {
     "elapsed": 1011,
     "status": "ok",
     "timestamp": 1595440110753,
     "user": {
      "displayName": "Tình Nguyễn",
      "photoUrl": "https://lh3.googleusercontent.com/a-/AOh14GjrLz4TzCzSDq0nRy1qq3AlNVMOpgX33NP4LXIeUA=s64",
      "userId": "04403922125072607921"
     },
     "user_tz": -420
    },
    "id": "Y9gU7b8MoJQU",
    "outputId": "4bad71b2-747f-4cb4-c46f-ce791a49a859"
   },
   "outputs": [],
   "source": [
    "if MyEdge((11, 13, -1)) in ttt:\n",
    "  print('aa')"
   ]
  },
  {
   "cell_type": "code",
   "execution_count": null,
   "metadata": {
    "colab": {},
    "colab_type": "code",
    "id": "8WIP_fKWYAl_"
   },
   "outputs": [],
   "source": [
    "ttt = genNewEdges(temp, example)"
   ]
  },
  {
   "cell_type": "code",
   "execution_count": null,
   "metadata": {
    "colab": {
     "base_uri": "https://localhost:8080/",
     "height": 34
    },
    "colab_type": "code",
    "executionInfo": {
     "elapsed": 966,
     "status": "ok",
     "timestamp": 1595443788070,
     "user": {
      "displayName": "Tình Nguyễn",
      "photoUrl": "https://lh3.googleusercontent.com/a-/AOh14GjrLz4TzCzSDq0nRy1qq3AlNVMOpgX33NP4LXIeUA=s64",
      "userId": "04403922125072607921"
     },
     "user_tz": -420
    },
    "id": "FHD-Z1Eu3Ccx",
    "outputId": "6089684c-8138-4843-aa06-28a0aeccfa7e"
   },
   "outputs": [],
   "source": [
    "ttt"
   ]
  },
  {
   "cell_type": "code",
   "execution_count": null,
   "metadata": {
    "colab": {
     "base_uri": "https://localhost:8080/",
     "height": 408
    },
    "colab_type": "code",
    "executionInfo": {
     "elapsed": 865,
     "status": "ok",
     "timestamp": 1595434174670,
     "user": {
      "displayName": "Tình Nguyễn",
      "photoUrl": "https://lh3.googleusercontent.com/a-/AOh14GjrLz4TzCzSDq0nRy1qq3AlNVMOpgX33NP4LXIeUA=s64",
      "userId": "04403922125072607921"
     },
     "user_tz": -420
    },
    "id": "OedUwHsNQOtT",
    "outputId": "2abbd092-4762-4b07-a418-ce6b9700929b"
   },
   "outputs": [],
   "source": [
    "example.edges"
   ]
  },
  {
   "cell_type": "code",
   "execution_count": null,
   "metadata": {
    "colab": {},
    "colab_type": "code",
    "id": "ohy4dRLQQmG1"
   },
   "outputs": [],
   "source": [
    "for i in ttt:\n",
    "  if i in example.edges:\n",
    "    print (i)"
   ]
  },
  {
   "cell_type": "code",
   "execution_count": null,
   "metadata": {
    "colab": {
     "base_uri": "https://localhost:8080/",
     "height": 34
    },
    "colab_type": "code",
    "executionInfo": {
     "elapsed": 889,
     "status": "ok",
     "timestamp": 1595443205661,
     "user": {
      "displayName": "Tình Nguyễn",
      "photoUrl": "https://lh3.googleusercontent.com/a-/AOh14GjrLz4TzCzSDq0nRy1qq3AlNVMOpgX33NP4LXIeUA=s64",
      "userId": "04403922125072607921"
     },
     "user_tz": -420
    },
    "id": "AJpxhXKvVS1J",
    "outputId": "ef532e83-3825-4d38-9dc4-781c758ba329"
   },
   "outputs": [],
   "source": [
    "len(ttt)"
   ]
  },
  {
   "cell_type": "code",
   "execution_count": null,
   "metadata": {
    "colab": {
     "base_uri": "https://localhost:8080/",
     "height": 306
    },
    "colab_type": "code",
    "executionInfo": {
     "elapsed": 956,
     "status": "ok",
     "timestamp": 1595427315406,
     "user": {
      "displayName": "Tình Nguyễn",
      "photoUrl": "https://lh3.googleusercontent.com/a-/AOh14GjrLz4TzCzSDq0nRy1qq3AlNVMOpgX33NP4LXIeUA=s64",
      "userId": "04403922125072607921"
     },
     "user_tz": -420
    },
    "id": "yGo2923O4LtG",
    "outputId": "4c3e0517-f769-4934-8c7b-55b56665a1c0"
   },
   "outputs": [],
   "source": [
    "resDemo.display()"
   ]
  },
  {
   "cell_type": "code",
   "execution_count": null,
   "metadata": {
    "colab": {
     "base_uri": "https://localhost:8080/",
     "height": 68
    },
    "colab_type": "code",
    "executionInfo": {
     "elapsed": 825,
     "status": "ok",
     "timestamp": 1595414012182,
     "user": {
      "displayName": "Tình Nguyễn",
      "photoUrl": "https://lh3.googleusercontent.com/a-/AOh14GjrLz4TzCzSDq0nRy1qq3AlNVMOpgX33NP4LXIeUA=s64",
      "userId": "04403922125072607921"
     },
     "user_tz": -420
    },
    "id": "DDdwhG1DYasG",
    "outputId": "9467a59f-ec7c-4ace-c054-7cdbc106f1ad"
   },
   "outputs": [],
   "source": [
    "for i in rrgDemo:\n",
    "  if len(i[0]) + len(i[1]) > 6:\n",
    "    print (i)"
   ]
  },
  {
   "cell_type": "code",
   "execution_count": null,
   "metadata": {
    "colab": {},
    "colab_type": "code",
    "id": "qxD2n2nZMKFh"
   },
   "outputs": [],
   "source": [
    "rrgTest1= repRuleGen(resTest1, 0.6)"
   ]
  },
  {
   "cell_type": "code",
   "execution_count": null,
   "metadata": {
    "colab": {
     "base_uri": "https://localhost:8080/",
     "height": 303
    },
    "colab_type": "code",
    "executionInfo": {
     "elapsed": 998,
     "status": "ok",
     "timestamp": 1595423865272,
     "user": {
      "displayName": "Tình Nguyễn",
      "photoUrl": "https://lh3.googleusercontent.com/a-/AOh14GjrLz4TzCzSDq0nRy1qq3AlNVMOpgX33NP4LXIeUA=s64",
      "userId": "04403922125072607921"
     },
     "user_tz": -420
    },
    "id": "ep2WrFeapUyF",
    "outputId": "8b44afe3-43dc-4cfb-a751-2545d80de802"
   },
   "outputs": [],
   "source": [
    "a0.plot()"
   ]
  },
  {
   "cell_type": "code",
   "execution_count": null,
   "metadata": {
    "colab": {
     "base_uri": "https://localhost:8080/",
     "height": 102
    },
    "colab_type": "code",
    "executionInfo": {
     "elapsed": 999,
     "status": "ok",
     "timestamp": 1595423988068,
     "user": {
      "displayName": "Tình Nguyễn",
      "photoUrl": "https://lh3.googleusercontent.com/a-/AOh14GjrLz4TzCzSDq0nRy1qq3AlNVMOpgX33NP4LXIeUA=s64",
      "userId": "04403922125072607921"
     },
     "user_tz": -420
    },
    "id": "cuNnoupMrJqm",
    "outputId": "739b1815-7b2e-4277-fc68-93598698ca44"
   },
   "outputs": [],
   "source": [
    "dft"
   ]
  },
  {
   "cell_type": "code",
   "execution_count": null,
   "metadata": {
    "colab": {
     "base_uri": "https://localhost:8080/",
     "height": 530
    },
    "colab_type": "code",
    "executionInfo": {
     "elapsed": 938,
     "status": "ok",
     "timestamp": 1595423450888,
     "user": {
      "displayName": "Tình Nguyễn",
      "photoUrl": "https://lh3.googleusercontent.com/a-/AOh14GjrLz4TzCzSDq0nRy1qq3AlNVMOpgX33NP4LXIeUA=s64",
      "userId": "04403922125072607921"
     },
     "user_tz": -420
    },
    "id": "v0zPVStEl9-6",
    "outputId": "1a0d08de-e102-4543-8e9b-e093f03a6110"
   },
   "outputs": [],
   "source": [
    "for i in a:\n",
    "  if not i.isMin():\n",
    "    print ('i', i)\n",
    "    print('min', i.toGraph().toDFSMin())"
   ]
  },
  {
   "cell_type": "code",
   "execution_count": null,
   "metadata": {
    "colab": {
     "base_uri": "https://localhost:8080/",
     "height": 34
    },
    "colab_type": "code",
    "executionInfo": {
     "elapsed": 937,
     "status": "ok",
     "timestamp": 1595422600824,
     "user": {
      "displayName": "Tình Nguyễn",
      "photoUrl": "https://lh3.googleusercontent.com/a-/AOh14GjrLz4TzCzSDq0nRy1qq3AlNVMOpgX33NP4LXIeUA=s64",
      "userId": "04403922125072607921"
     },
     "user_tz": -420
    },
    "id": "jPQ2T7OQmOIQ",
    "outputId": "16e6b323-72fe-4c9f-9995-c45dfc350e36"
   },
   "outputs": [],
   "source": [
    "len(a)"
   ]
  },
  {
   "cell_type": "code",
   "execution_count": null,
   "metadata": {
    "colab": {
     "base_uri": "https://localhost:8080/",
     "height": 1000
    },
    "colab_type": "code",
    "executionInfo": {
     "elapsed": 214579,
     "status": "ok",
     "timestamp": 1595426466622,
     "user": {
      "displayName": "Tình Nguyễn",
      "photoUrl": "https://lh3.googleusercontent.com/a-/AOh14GjrLz4TzCzSDq0nRy1qq3AlNVMOpgX33NP4LXIeUA=s64",
      "userId": "04403922125072607921"
     },
     "user_tz": -420
    },
    "id": "U7OCQhuDNuvg",
    "outputId": "ba41df9e-c20f-4ae1-ae04-465670c8ef93"
   },
   "outputs": [],
   "source": [
    "compareGraMi(readOutputGraMi('Output.txt'), FPMinerOpt8(cora, 150))"
   ]
  },
  {
   "cell_type": "code",
   "execution_count": null,
   "metadata": {
    "colab": {
     "base_uri": "https://localhost:8080/",
     "height": 680
    },
    "colab_type": "code",
    "executionInfo": {
     "elapsed": 944,
     "status": "ok",
     "timestamp": 1595422453381,
     "user": {
      "displayName": "Tình Nguyễn",
      "photoUrl": "https://lh3.googleusercontent.com/a-/AOh14GjrLz4TzCzSDq0nRy1qq3AlNVMOpgX33NP4LXIeUA=s64",
      "userId": "04403922125072607921"
     },
     "user_tz": -420
    },
    "id": "-THIdgo04Gjp",
    "outputId": "52b2ca9c-c608-488f-ccd2-d28002c4a005"
   },
   "outputs": [],
   "source": [
    "resTest2 = FPMinerOpt8(test2, 2)"
   ]
  },
  {
   "cell_type": "code",
   "execution_count": null,
   "metadata": {
    "colab": {
     "base_uri": "https://localhost:8080/",
     "height": 1000
    },
    "colab_type": "code",
    "executionInfo": {
     "elapsed": 52645,
     "status": "ok",
     "timestamp": 1595422106753,
     "user": {
      "displayName": "Tình Nguyễn",
      "photoUrl": "https://lh3.googleusercontent.com/a-/AOh14GjrLz4TzCzSDq0nRy1qq3AlNVMOpgX33NP4LXIeUA=s64",
      "userId": "04403922125072607921"
     },
     "user_tz": -420
    },
    "id": "d1QlEVvW4EOM",
    "outputId": "90d2da4d-6769-466f-9ebf-28684e6041b6"
   },
   "outputs": [],
   "source": [
    "res8 = FPMinerOpt8(citeseer, 120)"
   ]
  },
  {
   "cell_type": "code",
   "execution_count": null,
   "metadata": {
    "colab": {
     "base_uri": "https://localhost:8080/",
     "height": 306
    },
    "colab_type": "code",
    "executionInfo": {
     "elapsed": 874,
     "status": "ok",
     "timestamp": 1595413881814,
     "user": {
      "displayName": "Tình Nguyễn",
      "photoUrl": "https://lh3.googleusercontent.com/a-/AOh14GjrLz4TzCzSDq0nRy1qq3AlNVMOpgX33NP4LXIeUA=s64",
      "userId": "04403922125072607921"
     },
     "user_tz": -420
    },
    "id": "ojWdM1PV3grp",
    "outputId": "b4430c62-29b1-4c70-deb9-554e35fa4783"
   },
   "outputs": [],
   "source": [
    "resDemo.display()"
   ]
  },
  {
   "cell_type": "code",
   "execution_count": null,
   "metadata": {
    "colab": {
     "base_uri": "https://localhost:8080/",
     "height": 1000
    },
    "colab_type": "code",
    "executionInfo": {
     "elapsed": 861,
     "status": "ok",
     "timestamp": 1595413871847,
     "user": {
      "displayName": "Tình Nguyễn",
      "photoUrl": "https://lh3.googleusercontent.com/a-/AOh14GjrLz4TzCzSDq0nRy1qq3AlNVMOpgX33NP4LXIeUA=s64",
      "userId": "04403922125072607921"
     },
     "user_tz": -420
    },
    "id": "-tLHMTDPrk5C",
    "outputId": "0b58cc3b-db28-4bc7-b622-8fadb9795242"
   },
   "outputs": [],
   "source": [
    "resDemo = FPMinerOpt8(demo, 2)"
   ]
  },
  {
   "cell_type": "code",
   "execution_count": null,
   "metadata": {
    "colab": {
     "base_uri": "https://localhost:8080/",
     "height": 1000
    },
    "colab_type": "code",
    "executionInfo": {
     "elapsed": 1061,
     "status": "ok",
     "timestamp": 1594702050777,
     "user": {
      "displayName": "Tình Nguyễn",
      "photoUrl": "https://lh3.googleusercontent.com/a-/AOh14GjrLz4TzCzSDq0nRy1qq3AlNVMOpgX33NP4LXIeUA=s64",
      "userId": "04403922125072607921"
     },
     "user_tz": -420
    },
    "id": "pF2kszoPjd_D",
    "outputId": "1f82054f-18c6-4001-eeeb-90d579207756"
   },
   "outputs": [],
   "source": [
    "ruleGen(resCiteseer7, 0)"
   ]
  },
  {
   "cell_type": "code",
   "execution_count": null,
   "metadata": {
    "colab": {
     "base_uri": "https://localhost:8080/",
     "height": 1000
    },
    "colab_type": "code",
    "executionInfo": {
     "elapsed": 1500570,
     "status": "error",
     "timestamp": 1594705847791,
     "user": {
      "displayName": "Tình Nguyễn",
      "photoUrl": "https://lh3.googleusercontent.com/a-/AOh14GjrLz4TzCzSDq0nRy1qq3AlNVMOpgX33NP4LXIeUA=s64",
      "userId": "04403922125072607921"
     },
     "user_tz": -420
    },
    "id": "sM9sfKHniT-V",
    "outputId": "2c8c01ea-d2f3-489c-ac26-8e8450968481"
   },
   "outputs": [],
   "source": [
    "resCiteseer7 = FPMinerOpt7(citeseer, 120)"
   ]
  },
  {
   "cell_type": "code",
   "execution_count": null,
   "metadata": {
    "colab": {},
    "colab_type": "code",
    "id": "5v1HBSUo4Hr4"
   },
   "outputs": [],
   "source": [
    "resMico8 = FPMinerOpt8(mico, 12500)"
   ]
  },
  {
   "cell_type": "code",
   "execution_count": null,
   "metadata": {
    "colab": {
     "base_uri": "https://localhost:8080/",
     "height": 1000
    },
    "colab_type": "code",
    "executionInfo": {
     "elapsed": 57146,
     "status": "ok",
     "timestamp": 1594698836163,
     "user": {
      "displayName": "Tình Nguyễn",
      "photoUrl": "https://lh3.googleusercontent.com/a-/AOh14GjrLz4TzCzSDq0nRy1qq3AlNVMOpgX33NP4LXIeUA=s64",
      "userId": "04403922125072607921"
     },
     "user_tz": -420
    },
    "id": "yQHERK_m1eCQ",
    "outputId": "9345a370-334f-4cca-d15e-50b950c40485"
   },
   "outputs": [],
   "source": [
    "resCiteseer8 = FPMinerOpt8(citeseer, 120)"
   ]
  },
  {
   "cell_type": "code",
   "execution_count": null,
   "metadata": {
    "colab": {},
    "colab_type": "code",
    "id": "cq6a0eSJg3DI"
   },
   "outputs": [],
   "source": [
    "resDemo = FPMinerOpt8(demo, 2)"
   ]
  },
  {
   "cell_type": "code",
   "execution_count": null,
   "metadata": {
    "colab": {},
    "colab_type": "code",
    "id": "jw5OcJ6jak89"
   },
   "outputs": [],
   "source": []
  },
  {
   "cell_type": "code",
   "execution_count": null,
   "metadata": {
    "colab": {},
    "colab_type": "code",
    "id": "AIZcw7E8ZZzX"
   },
   "outputs": [],
   "source": [
    "rep = repRuleGen(resEx, 1)"
   ]
  },
  {
   "cell_type": "code",
   "execution_count": null,
   "metadata": {
    "colab": {},
    "colab_type": "code",
    "id": "_ucNK_Elaj4M"
   },
   "outputs": [],
   "source": [
    "r = ruleGen(resEx, 1)"
   ]
  },
  {
   "cell_type": "code",
   "execution_count": null,
   "metadata": {
    "colab": {},
    "colab_type": "code",
    "id": "tcJlWTbWZ39a"
   },
   "outputs": [],
   "source": [
    "temppp = []\n",
    "count = 0\n",
    "for i in r:\n",
    "  if i not in temppp:\n",
    "    temppp.append(i)\n",
    "  else:\n",
    "    count += 1"
   ]
  },
  {
   "cell_type": "code",
   "execution_count": null,
   "metadata": {
    "colab": {},
    "colab_type": "code",
    "id": "il4nyHxIbZHO"
   },
   "outputs": [],
   "source": []
  },
  {
   "cell_type": "code",
   "execution_count": null,
   "metadata": {
    "colab": {},
    "colab_type": "code",
    "id": "LblUtK76bRN7"
   },
   "outputs": [],
   "source": [
    "dic = [0] * 100\n",
    "for i in resEx.getAllCodes():\n",
    "  dic[len(i.data)] += 1"
   ]
  },
  {
   "cell_type": "code",
   "execution_count": null,
   "metadata": {
    "colab": {
     "base_uri": "https://localhost:8080/",
     "height": 1000
    },
    "colab_type": "code",
    "executionInfo": {
     "elapsed": 758,
     "status": "ok",
     "timestamp": 1594984024679,
     "user": {
      "displayName": "Tình Nguyễn",
      "photoUrl": "https://lh3.googleusercontent.com/a-/AOh14GjrLz4TzCzSDq0nRy1qq3AlNVMOpgX33NP4LXIeUA=s64",
      "userId": "04403922125072607921"
     },
     "user_tz": -420
    },
    "id": "pGycy9FxdL66",
    "outputId": "872c1aed-faff-40ce-eead-a92fe17fc784"
   },
   "outputs": [],
   "source": [
    "dic"
   ]
  },
  {
   "cell_type": "code",
   "execution_count": null,
   "metadata": {
    "colab": {
     "base_uri": "https://localhost:8080/",
     "height": 34
    },
    "colab_type": "code",
    "executionInfo": {
     "elapsed": 874,
     "status": "ok",
     "timestamp": 1594982911031,
     "user": {
      "displayName": "Tình Nguyễn",
      "photoUrl": "https://lh3.googleusercontent.com/a-/AOh14GjrLz4TzCzSDq0nRy1qq3AlNVMOpgX33NP4LXIeUA=s64",
      "userId": "04403922125072607921"
     },
     "user_tz": -420
    },
    "id": "bR5LR6qhYd0z",
    "outputId": "1c76df81-006a-45be-c882-d3ddb5a1c3e9"
   },
   "outputs": [],
   "source": [
    "for i in a:\n",
    "  if len(i[0]) == 5 and len(i[1]) == 2 and i not in b:\n",
    "    print (i)"
   ]
  },
  {
   "cell_type": "code",
   "execution_count": null,
   "metadata": {
    "colab": {},
    "colab_type": "code",
    "id": "mPADTELGYLcH"
   },
   "outputs": [],
   "source": [
    "b = ruleGen(resEx, 1)"
   ]
  },
  {
   "cell_type": "code",
   "execution_count": null,
   "metadata": {
    "colab": {
     "base_uri": "https://localhost:8080/",
     "height": 1000
    },
    "colab_type": "code",
    "executionInfo": {
     "elapsed": 1486,
     "status": "ok",
     "timestamp": 1594982694911,
     "user": {
      "displayName": "Tình Nguyễn",
      "photoUrl": "https://lh3.googleusercontent.com/a-/AOh14GjrLz4TzCzSDq0nRy1qq3AlNVMOpgX33NP4LXIeUA=s64",
      "userId": "04403922125072607921"
     },
     "user_tz": -420
    },
    "id": "yOTeJWV-YB8A",
    "outputId": "7e2c0357-fc1e-4c3a-d122-0fbef6a4e439"
   },
   "outputs": [],
   "source": [
    "resEx = FPMinerOpt8(example, 2)"
   ]
  },
  {
   "cell_type": "code",
   "execution_count": null,
   "metadata": {
    "colab": {
     "base_uri": "https://localhost:8080/",
     "height": 1000
    },
    "colab_type": "code",
    "executionInfo": {
     "elapsed": 715,
     "status": "ok",
     "timestamp": 1594982662090,
     "user": {
      "displayName": "Tình Nguyễn",
      "photoUrl": "https://lh3.googleusercontent.com/a-/AOh14GjrLz4TzCzSDq0nRy1qq3AlNVMOpgX33NP4LXIeUA=s64",
      "userId": "04403922125072607921"
     },
     "user_tz": -420
    },
    "id": "vrs30gehXgJs",
    "outputId": "d73a64d2-ac8f-49e6-e797-c854aa333ce7"
   },
   "outputs": [],
   "source": [
    "repRuleGen(res8, 0.9)"
   ]
  },
  {
   "cell_type": "code",
   "execution_count": null,
   "metadata": {
    "colab": {
     "base_uri": "https://localhost:8080/",
     "height": 1000
    },
    "colab_type": "code",
    "executionInfo": {
     "elapsed": 50206,
     "status": "ok",
     "timestamp": 1594982526371,
     "user": {
      "displayName": "Tình Nguyễn",
      "photoUrl": "https://lh3.googleusercontent.com/a-/AOh14GjrLz4TzCzSDq0nRy1qq3AlNVMOpgX33NP4LXIeUA=s64",
      "userId": "04403922125072607921"
     },
     "user_tz": -420
    },
    "id": "7nLOKcsjW97G",
    "outputId": "1b46cb39-5c0b-4368-b7c6-18f0ca64385e"
   },
   "outputs": [],
   "source": [
    "res8 = FPMinerOpt8(citeseer, 120)"
   ]
  }
 ],
 "metadata": {
  "colab": {
   "collapsed_sections": [
    "NE4elMiBbwmH",
    "BOJdQO6DP2ms",
    "porfrU47Y8Hq",
    "9V38q9N1K1SB",
    "UztCW3swlCma",
    "lbdE6U1Yb-Xi",
    "w-xVmqcaH00L",
    "sQ5jEbjHg1JI"
   ],
   "machine_shape": "hm",
   "name": "Copy of thesis_tinh_new_datastruct_2.ipynb",
   "provenance": [
    {
     "file_id": "1PglDdkk0clR6iGyyYoNAeKUBNRuJki-d",
     "timestamp": 1594527736372
    }
   ],
   "toc_visible": true
  },
  "kernelspec": {
   "display_name": "Python 3",
   "language": "python",
   "name": "python3"
  },
  "language_info": {
   "codemirror_mode": {
    "name": "ipython",
    "version": 3
   },
   "file_extension": ".py",
   "mimetype": "text/x-python",
   "name": "python",
   "nbconvert_exporter": "python",
   "pygments_lexer": "ipython3",
   "version": "3.6.9"
  }
 },
 "nbformat": 4,
 "nbformat_minor": 1
}
